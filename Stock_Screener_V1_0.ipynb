{
  "nbformat": 4,
  "nbformat_minor": 0,
  "metadata": {
    "kernelspec": {
      "name": "python3",
      "display_name": "Python 3"
    },
    "language_info": {
      "codemirror_mode": {
        "name": "ipython",
        "version": 3
      },
      "file_extension": ".py",
      "mimetype": "text/x-python",
      "name": "python",
      "nbconvert_exporter": "python",
      "pygments_lexer": "ipython3",
      "version": "3.8.1"
    },
    "colab": {
      "name": "Stock_Screener_V1.0.ipynb",
      "provenance": [],
      "include_colab_link": true
    },
    "accelerator": "GPU"
  },
  "cells": [
    {
      "cell_type": "markdown",
      "metadata": {
        "id": "view-in-github",
        "colab_type": "text"
      },
      "source": [
        "<a href=\"https://colab.research.google.com/github/WIVIV/stock_screener/blob/master/Stock_Screener_V1_0.ipynb\" target=\"_parent\"><img src=\"https://colab.research.google.com/assets/colab-badge.svg\" alt=\"Open In Colab\"/></a>"
      ]
    },
    {
      "cell_type": "code",
      "metadata": {
        "id": "CSIQ99tEhZ0T",
        "colab_type": "code",
        "colab": {
          "base_uri": "https://localhost:8080/",
          "height": 289
        },
        "outputId": "bb1a7093-bb3d-4bca-d214-4637176ea692"
      },
      "source": [
        "!pip install simfin"
      ],
      "execution_count": 4,
      "outputs": [
        {
          "output_type": "stream",
          "text": [
            "Collecting simfin\n",
            "\u001b[?25l  Downloading https://files.pythonhosted.org/packages/15/84/5bb0d5694782c7d1e45e3a7d57b13e08ad5df9e271f3510a4c898c7a015a/simfin-0.4.0-py3-none-any.whl (55kB)\n",
            "\r\u001b[K     |██████                          | 10kB 29.2MB/s eta 0:00:01\r\u001b[K     |███████████▉                    | 20kB 6.3MB/s eta 0:00:01\r\u001b[K     |█████████████████▊              | 30kB 8.9MB/s eta 0:00:01\r\u001b[K     |███████████████████████▋        | 40kB 5.9MB/s eta 0:00:01\r\u001b[K     |█████████████████████████████▌  | 51kB 7.2MB/s eta 0:00:01\r\u001b[K     |████████████████████████████████| 61kB 4.8MB/s \n",
            "\u001b[?25hRequirement already satisfied: pyarrow in /usr/local/lib/python3.6/dist-packages (from simfin) (0.14.1)\n",
            "Requirement already satisfied: numpy in /usr/local/lib/python3.6/dist-packages (from simfin) (1.17.5)\n",
            "Requirement already satisfied: pandas in /usr/local/lib/python3.6/dist-packages (from simfin) (0.25.3)\n",
            "Requirement already satisfied: requests in /usr/local/lib/python3.6/dist-packages (from simfin) (2.21.0)\n",
            "Requirement already satisfied: six>=1.0.0 in /usr/local/lib/python3.6/dist-packages (from pyarrow->simfin) (1.12.0)\n",
            "Requirement already satisfied: pytz>=2017.2 in /usr/local/lib/python3.6/dist-packages (from pandas->simfin) (2018.9)\n",
            "Requirement already satisfied: python-dateutil>=2.6.1 in /usr/local/lib/python3.6/dist-packages (from pandas->simfin) (2.6.1)\n",
            "Requirement already satisfied: chardet<3.1.0,>=3.0.2 in /usr/local/lib/python3.6/dist-packages (from requests->simfin) (3.0.4)\n",
            "Requirement already satisfied: certifi>=2017.4.17 in /usr/local/lib/python3.6/dist-packages (from requests->simfin) (2019.11.28)\n",
            "Requirement already satisfied: urllib3<1.25,>=1.21.1 in /usr/local/lib/python3.6/dist-packages (from requests->simfin) (1.24.3)\n",
            "Requirement already satisfied: idna<2.9,>=2.5 in /usr/local/lib/python3.6/dist-packages (from requests->simfin) (2.8)\n",
            "Installing collected packages: simfin\n",
            "Successfully installed simfin-0.4.0\n"
          ],
          "name": "stdout"
        }
      ]
    },
    {
      "cell_type": "code",
      "metadata": {
        "id": "EEN2ToGonJX0",
        "colab_type": "code",
        "colab": {
          "base_uri": "https://localhost:8080/",
          "height": 51
        },
        "outputId": "dd92e678-5c29-43bd-f376-d535c3498204"
      },
      "source": [
        "import tensorflow as tf\n",
        "\n",
        "try:\n",
        "  # %tensorflow_version only exists in Colab.\n",
        "  %tensorflow_version 2.x\n",
        "except Exception:\n",
        "  pass\n",
        "\n",
        "device_name = tf.test.gpu_device_name()\n",
        "if device_name != '/device:GPU:0':\n",
        "  raise SystemError('GPU device not found')\n",
        "print('Found GPU at: {}'.format(device_name))"
      ],
      "execution_count": 5,
      "outputs": [
        {
          "output_type": "stream",
          "text": [
            "TensorFlow is already loaded. Please restart the runtime to change versions.\n",
            "Found GPU at: /device:GPU:0\n"
          ],
          "name": "stdout"
        }
      ]
    },
    {
      "cell_type": "markdown",
      "metadata": {
        "id": "3Z8Fm3WIg3Fw",
        "colab_type": "text"
      },
      "source": [
        "## Imports"
      ]
    },
    {
      "cell_type": "code",
      "metadata": {
        "id": "U2JhNOZTg3Fx",
        "colab_type": "code",
        "colab": {}
      },
      "source": [
        "%matplotlib inline\n",
        "import pandas as pd\n",
        "import numpy as np\n",
        "import seaborn as sns\n",
        "import matplotlib.pyplot as plt\n",
        "from scipy.optimize import differential_evolution\n",
        "from datetime import datetime, timedelta\n",
        "import os\n",
        "\n",
        "# Import the main functionality from the SimFin Python API.\n",
        "import simfin as sf\n",
        "\n",
        "# Import names used for easy access to SimFin's data-columns.\n",
        "from simfin.names import *"
      ],
      "execution_count": 0,
      "outputs": []
    },
    {
      "cell_type": "code",
      "metadata": {
        "id": "cXEk6ZQ-g3Fz",
        "colab_type": "code",
        "colab": {
          "base_uri": "https://localhost:8080/",
          "height": 34
        },
        "outputId": "4e61ee7b-de0b-43d9-feb6-2ea612e42efa"
      },
      "source": [
        "# Version of the SimFin Python API.\n",
        "sf.__version__"
      ],
      "execution_count": 7,
      "outputs": [
        {
          "output_type": "execute_result",
          "data": {
            "text/plain": [
              "'0.4.0'"
            ]
          },
          "metadata": {
            "tags": []
          },
          "execution_count": 7
        }
      ]
    },
    {
      "cell_type": "code",
      "metadata": {
        "id": "wIJswFoMg3F2",
        "colab_type": "code",
        "colab": {}
      },
      "source": [
        "# Boolean whether this is being run under pytest. We will\n",
        "# use this to make certain parts of the tutorial run faster.\n",
        "running_pytest = ('PYTEST_CURRENT_TEST' in os.environ)"
      ],
      "execution_count": 0,
      "outputs": []
    },
    {
      "cell_type": "markdown",
      "metadata": {
        "id": "0eK6ZNXdg3F4",
        "colab_type": "text"
      },
      "source": [
        "## Config"
      ]
    },
    {
      "cell_type": "code",
      "metadata": {
        "id": "2uCCi7VMg3F5",
        "colab_type": "code",
        "colab": {}
      },
      "source": [
        "# SimFin data-directory.\n",
        "sf.set_data_dir('~/simfin_data/')"
      ],
      "execution_count": 0,
      "outputs": []
    },
    {
      "cell_type": "code",
      "metadata": {
        "id": "piT7oSRLg3F7",
        "colab_type": "code",
        "colab": {}
      },
      "source": [
        "# SimFin load API key or use free data.\n",
        "sf.load_api_key(path='~/simfin_api_key.txt', default_key='free')"
      ],
      "execution_count": 0,
      "outputs": []
    },
    {
      "cell_type": "code",
      "metadata": {
        "id": "exK8f2LEg3F-",
        "colab_type": "code",
        "colab": {}
      },
      "source": [
        "# Seaborn set plotting style.\n",
        "sns.set_style(\"whitegrid\")"
      ],
      "execution_count": 0,
      "outputs": []
    },
    {
      "cell_type": "markdown",
      "metadata": {
        "id": "3JGcNk0Pg3GA",
        "colab_type": "text"
      },
      "source": [
        "## Data Hub\n",
        "\n",
        "In these examples, we will use stock-data for USA. It is very easy to load and process the data using the `sf.StockHub` class. We instruct it to refresh the financial data every 30 days, and the share-price data must be refreshed daily."
      ]
    },
    {
      "cell_type": "code",
      "metadata": {
        "id": "FkkCS1Wjg3GB",
        "colab_type": "code",
        "colab": {}
      },
      "source": [
        "hub = sf.StockHub(market='us',\n",
        "                  refresh_days=30,\n",
        "                  refresh_days_shareprices=1)"
      ],
      "execution_count": 0,
      "outputs": []
    },
    {
      "cell_type": "markdown",
      "metadata": {
        "id": "ZjiwiYnsg3GC",
        "colab_type": "text"
      },
      "source": [
        "The data-hub not only makes the syntax very simple, but it also takes care of downloading the required datasets from the SimFin server and loading them into Pandas DataFrames. Furthermore, the data-hub's slow processing functions use a disk-cache to save the results for the next time the functions are called, and the cache automatically gets refreshed when new datasets are downloaded from the SimFin server. Lastly, the data-hub's functions are also RAM-cached, so the second time you call them, they return the results nearly instantly. Altogether, the data-hub makes it much easier and faster to work with the data."
      ]
    },
    {
      "cell_type": "markdown",
      "metadata": {
        "id": "GzRV20O-g3GD",
        "colab_type": "text"
      },
      "source": [
        "## Financial Signals\n",
        "\n",
        "First we calculate financial signals for the stocks, such as the Current Ratio, Debt Ratio, Net Profit Margin, Return on Assets, etc. These are calculated using data from the financial reports: Income Statements, Balance Sheets and Cash-Flow Statements, which are automatically downloaded and loaded by the data-hub.\n",
        "\n",
        "Note that we set `variant='latest'` because we are only interested in the most recent signals, and we are not interested in the signals from several years ago."
      ]
    },
    {
      "cell_type": "code",
      "metadata": {
        "id": "SlsBLADGg3GE",
        "colab_type": "code",
        "colab": {
          "base_uri": "https://localhost:8080/",
          "height": 306
        },
        "outputId": "b14a3d2e-6d60-4de6-d650-ce65355706d8"
      },
      "source": [
        "%%time\n",
        "df_fin_signals = hub.fin_signals(variant='latest')"
      ],
      "execution_count": 13,
      "outputs": [
        {
          "output_type": "stream",
          "text": [
            "Dataset \"us-income-ttm\" not on disk.\n",
            "- Downloading ... 100.0%\n",
            "- Extracting zip-file ... Done!\n",
            "- Loading from disk ... Done!\n",
            "Dataset \"us-balance-ttm\" not on disk.\n",
            "- Downloading ... 100.0%\n",
            "- Extracting zip-file ... Done!\n",
            "- Loading from disk ... Done!\n",
            "Dataset \"us-shareprices-latest\" not on disk.\n",
            "- Downloading ... 100.0%\n",
            "- Extracting zip-file ... Done!\n",
            "- Loading from disk ... Done!\n",
            "Cache-file 'fin_signals-899db0b4.pickle' not on disk.\n",
            "- Running function fin_signals() ... Done!\n",
            "- Saving cache-file to disk ... Done!\n",
            "CPU times: user 16.1 s, sys: 443 ms, total: 16.5 s\n",
            "Wall time: 17.9 s\n"
          ],
          "name": "stdout"
        }
      ]
    },
    {
      "cell_type": "code",
      "metadata": {
        "id": "P3q7R9qSg3GG",
        "colab_type": "code",
        "colab": {
          "base_uri": "https://localhost:8080/",
          "height": 235
        },
        "outputId": "b2742dcb-5644-44b2-8182-b93873e66119"
      },
      "source": [
        "df_fin_signals.dropna().head()"
      ],
      "execution_count": 14,
      "outputs": [
        {
          "output_type": "execute_result",
          "data": {
            "text/html": [
              "<div>\n",
              "<style scoped>\n",
              "    .dataframe tbody tr th:only-of-type {\n",
              "        vertical-align: middle;\n",
              "    }\n",
              "\n",
              "    .dataframe tbody tr th {\n",
              "        vertical-align: top;\n",
              "    }\n",
              "\n",
              "    .dataframe thead th {\n",
              "        text-align: right;\n",
              "    }\n",
              "</style>\n",
              "<table border=\"1\" class=\"dataframe\">\n",
              "  <thead>\n",
              "    <tr style=\"text-align: right;\">\n",
              "      <th></th>\n",
              "      <th></th>\n",
              "      <th>Asset Turnover</th>\n",
              "      <th>Current Ratio</th>\n",
              "      <th>Debt Ratio</th>\n",
              "      <th>Gross Profit Margin</th>\n",
              "      <th>Net Profit Margin</th>\n",
              "      <th>Return on Assets</th>\n",
              "      <th>Return on Equity</th>\n",
              "    </tr>\n",
              "    <tr>\n",
              "      <th>Ticker</th>\n",
              "      <th>Date</th>\n",
              "      <th></th>\n",
              "      <th></th>\n",
              "      <th></th>\n",
              "      <th></th>\n",
              "      <th></th>\n",
              "      <th></th>\n",
              "      <th></th>\n",
              "    </tr>\n",
              "  </thead>\n",
              "  <tbody>\n",
              "    <tr>\n",
              "      <th>A</th>\n",
              "      <th>2020-03-12</th>\n",
              "      <td>0.573350</td>\n",
              "      <td>3.389954</td>\n",
              "      <td>0.210631</td>\n",
              "      <td>0.545619</td>\n",
              "      <td>0.228594</td>\n",
              "      <td>0.131065</td>\n",
              "      <td>0.251878</td>\n",
              "    </tr>\n",
              "    <tr>\n",
              "      <th>AA</th>\n",
              "      <th>2020-03-12</th>\n",
              "      <td>0.768212</td>\n",
              "      <td>1.416238</td>\n",
              "      <td>0.113063</td>\n",
              "      <td>0.247855</td>\n",
              "      <td>0.016937</td>\n",
              "      <td>0.013011</td>\n",
              "      <td>0.033392</td>\n",
              "    </tr>\n",
              "    <tr>\n",
              "      <th>AAL</th>\n",
              "      <th>2020-03-12</th>\n",
              "      <td>0.843819</td>\n",
              "      <td>0.477288</td>\n",
              "      <td>0.403978</td>\n",
              "      <td>0.266945</td>\n",
              "      <td>0.031701</td>\n",
              "      <td>0.026750</td>\n",
              "      <td>-1.810256</td>\n",
              "    </tr>\n",
              "    <tr>\n",
              "      <th>AAOI</th>\n",
              "      <th>2020-03-12</th>\n",
              "      <td>0.590451</td>\n",
              "      <td>2.509429</td>\n",
              "      <td>0.179755</td>\n",
              "      <td>0.328166</td>\n",
              "      <td>-0.008023</td>\n",
              "      <td>-0.004737</td>\n",
              "      <td>-0.006439</td>\n",
              "    </tr>\n",
              "    <tr>\n",
              "      <th>AAP</th>\n",
              "      <th>2020-03-12</th>\n",
              "      <td>1.129476</td>\n",
              "      <td>1.565242</td>\n",
              "      <td>0.123951</td>\n",
              "      <td>0.440414</td>\n",
              "      <td>0.044240</td>\n",
              "      <td>0.049968</td>\n",
              "      <td>0.124106</td>\n",
              "    </tr>\n",
              "  </tbody>\n",
              "</table>\n",
              "</div>"
            ],
            "text/plain": [
              "                   Asset Turnover  ...  Return on Equity\n",
              "Ticker Date                        ...                  \n",
              "A      2020-03-12        0.573350  ...          0.251878\n",
              "AA     2020-03-12        0.768212  ...          0.033392\n",
              "AAL    2020-03-12        0.843819  ...         -1.810256\n",
              "AAOI   2020-03-12        0.590451  ...         -0.006439\n",
              "AAP    2020-03-12        1.129476  ...          0.124106\n",
              "\n",
              "[5 rows x 7 columns]"
            ]
          },
          "metadata": {
            "tags": []
          },
          "execution_count": 14
        }
      ]
    },
    {
      "cell_type": "markdown",
      "metadata": {
        "id": "4zqBZCK-g3GI",
        "colab_type": "text"
      },
      "source": [
        "We then pass the argument `func=sf.avg_ttm_2y` to `hub.fin_signals`, so as to calculate 2-year averages of the financial signals. We then get another DataFrame with the 2-year average Current Ratio, Net Profit Margin, Return on Assets, etc."
      ]
    },
    {
      "cell_type": "code",
      "metadata": {
        "id": "HWNtxWxvg3GJ",
        "colab_type": "code",
        "colab": {
          "base_uri": "https://localhost:8080/",
          "height": 102
        },
        "outputId": "16019406-8b0c-435f-8e17-b1a3f71bf1d8"
      },
      "source": [
        "%%time\n",
        "df_fin_signals_2y = hub.fin_signals(variant='latest',\n",
        "                                    func=sf.avg_ttm_2y)"
      ],
      "execution_count": 15,
      "outputs": [
        {
          "output_type": "stream",
          "text": [
            "Cache-file 'fin_signals-4a256f6a.pickle' not on disk.\n",
            "- Running function fin_signals() ... Done!\n",
            "- Saving cache-file to disk ... Done!\n",
            "CPU times: user 21.5 s, sys: 45.7 ms, total: 21.5 s\n",
            "Wall time: 21.5 s\n"
          ],
          "name": "stdout"
        }
      ]
    },
    {
      "cell_type": "code",
      "metadata": {
        "id": "zx_2ehXbg3GL",
        "colab_type": "code",
        "colab": {
          "base_uri": "https://localhost:8080/",
          "height": 235
        },
        "outputId": "4af66a6f-e26f-43b4-f5c4-180437aebac1"
      },
      "source": [
        "df_fin_signals_2y.dropna().head()"
      ],
      "execution_count": 16,
      "outputs": [
        {
          "output_type": "execute_result",
          "data": {
            "text/html": [
              "<div>\n",
              "<style scoped>\n",
              "    .dataframe tbody tr th:only-of-type {\n",
              "        vertical-align: middle;\n",
              "    }\n",
              "\n",
              "    .dataframe tbody tr th {\n",
              "        vertical-align: top;\n",
              "    }\n",
              "\n",
              "    .dataframe thead th {\n",
              "        text-align: right;\n",
              "    }\n",
              "</style>\n",
              "<table border=\"1\" class=\"dataframe\">\n",
              "  <thead>\n",
              "    <tr style=\"text-align: right;\">\n",
              "      <th></th>\n",
              "      <th></th>\n",
              "      <th>Asset Turnover</th>\n",
              "      <th>Current Ratio</th>\n",
              "      <th>Debt Ratio</th>\n",
              "      <th>Gross Profit Margin</th>\n",
              "      <th>Net Profit Margin</th>\n",
              "      <th>Return on Assets</th>\n",
              "      <th>Return on Equity</th>\n",
              "    </tr>\n",
              "    <tr>\n",
              "      <th>Ticker</th>\n",
              "      <th>Date</th>\n",
              "      <th></th>\n",
              "      <th></th>\n",
              "      <th></th>\n",
              "      <th></th>\n",
              "      <th></th>\n",
              "      <th></th>\n",
              "      <th></th>\n",
              "    </tr>\n",
              "  </thead>\n",
              "  <tbody>\n",
              "    <tr>\n",
              "      <th>A</th>\n",
              "      <th>2020-03-12</th>\n",
              "      <td>0.579866</td>\n",
              "      <td>3.310334</td>\n",
              "      <td>0.224649</td>\n",
              "      <td>0.544473</td>\n",
              "      <td>0.135528</td>\n",
              "      <td>0.077981</td>\n",
              "      <td>0.148730</td>\n",
              "    </tr>\n",
              "    <tr>\n",
              "      <th>AAL</th>\n",
              "      <th>2020-03-12</th>\n",
              "      <td>0.833493</td>\n",
              "      <td>0.536404</td>\n",
              "      <td>0.439415</td>\n",
              "      <td>0.284573</td>\n",
              "      <td>0.038584</td>\n",
              "      <td>0.032088</td>\n",
              "      <td>-0.651628</td>\n",
              "    </tr>\n",
              "    <tr>\n",
              "      <th>AAOI</th>\n",
              "      <th>2020-03-12</th>\n",
              "      <td>0.888319</td>\n",
              "      <td>2.878979</td>\n",
              "      <td>0.144581</td>\n",
              "      <td>0.381540</td>\n",
              "      <td>0.092699</td>\n",
              "      <td>0.112349</td>\n",
              "      <td>0.159393</td>\n",
              "    </tr>\n",
              "    <tr>\n",
              "      <th>AAP</th>\n",
              "      <th>2020-03-12</th>\n",
              "      <td>1.128403</td>\n",
              "      <td>1.562325</td>\n",
              "      <td>0.141038</td>\n",
              "      <td>0.438105</td>\n",
              "      <td>0.047484</td>\n",
              "      <td>0.053577</td>\n",
              "      <td>0.143582</td>\n",
              "    </tr>\n",
              "    <tr>\n",
              "      <th>AAPL</th>\n",
              "      <th>2020-03-12</th>\n",
              "      <td>0.682693</td>\n",
              "      <td>1.271283</td>\n",
              "      <td>0.303942</td>\n",
              "      <td>0.383206</td>\n",
              "      <td>0.219209</td>\n",
              "      <td>0.149337</td>\n",
              "      <td>0.402771</td>\n",
              "    </tr>\n",
              "  </tbody>\n",
              "</table>\n",
              "</div>"
            ],
            "text/plain": [
              "                   Asset Turnover  ...  Return on Equity\n",
              "Ticker Date                        ...                  \n",
              "A      2020-03-12        0.579866  ...          0.148730\n",
              "AAL    2020-03-12        0.833493  ...         -0.651628\n",
              "AAOI   2020-03-12        0.888319  ...          0.159393\n",
              "AAP    2020-03-12        1.128403  ...          0.143582\n",
              "AAPL   2020-03-12        0.682693  ...          0.402771\n",
              "\n",
              "[5 rows x 7 columns]"
            ]
          },
          "metadata": {
            "tags": []
          },
          "execution_count": 16
        }
      ]
    },
    {
      "cell_type": "markdown",
      "metadata": {
        "id": "a_FJSlhQg3GN",
        "colab_type": "text"
      },
      "source": [
        "## Growth Signals\n",
        "\n",
        "Now we calculate growth signals for the stocks, such as Earnings Growth, FCF Growth, Sales Growth, etc. These are also calculated using data from the financial reports: Income Statements, Balance Sheets and Cash-Flow Statements, which are automatically downloaded and loaded by the data-hub."
      ]
    },
    {
      "cell_type": "code",
      "metadata": {
        "id": "BifqF5g1g3GN",
        "colab_type": "code",
        "colab": {
          "base_uri": "https://localhost:8080/",
          "height": 306
        },
        "outputId": "be0bee95-4677-4326-c58e-3806cd5cf5ab"
      },
      "source": [
        "%%time\n",
        "df_growth_signals = hub.growth_signals(variant='latest')"
      ],
      "execution_count": 17,
      "outputs": [
        {
          "output_type": "stream",
          "text": [
            "Dataset \"us-income-quarterly\" not on disk.\n",
            "- Downloading ... 100.0%\n",
            "- Extracting zip-file ... Done!\n",
            "- Loading from disk ... Done!\n",
            "Dataset \"us-cashflow-ttm\" not on disk.\n",
            "- Downloading ... 100.0%\n",
            "- Extracting zip-file ... Done!\n",
            "- Loading from disk ... Done!\n",
            "Dataset \"us-cashflow-quarterly\" not on disk.\n",
            "- Downloading ... 100.0%\n",
            "- Extracting zip-file ... Done!\n",
            "- Loading from disk ... Done!\n",
            "Cache-file 'growth_signals-899db0b4.pickle' not on disk.\n",
            "- Running function growth_signals() ... Done!\n",
            "- Saving cache-file to disk ... Done!\n",
            "CPU times: user 18.9 s, sys: 238 ms, total: 19.1 s\n",
            "Wall time: 20.6 s\n"
          ],
          "name": "stdout"
        }
      ]
    },
    {
      "cell_type": "code",
      "metadata": {
        "id": "g6xOm-PBg3GQ",
        "colab_type": "code",
        "colab": {
          "base_uri": "https://localhost:8080/",
          "height": 235
        },
        "outputId": "31b21e84-b747-4fd6-ef57-19ac719fd2da"
      },
      "source": [
        "df_growth_signals.dropna().head()"
      ],
      "execution_count": 18,
      "outputs": [
        {
          "output_type": "execute_result",
          "data": {
            "text/html": [
              "<div>\n",
              "<style scoped>\n",
              "    .dataframe tbody tr th:only-of-type {\n",
              "        vertical-align: middle;\n",
              "    }\n",
              "\n",
              "    .dataframe tbody tr th {\n",
              "        vertical-align: top;\n",
              "    }\n",
              "\n",
              "    .dataframe thead th {\n",
              "        text-align: right;\n",
              "    }\n",
              "</style>\n",
              "<table border=\"1\" class=\"dataframe\">\n",
              "  <thead>\n",
              "    <tr style=\"text-align: right;\">\n",
              "      <th></th>\n",
              "      <th></th>\n",
              "      <th>Earnings Growth</th>\n",
              "      <th>Earnings Growth QOQ</th>\n",
              "      <th>Earnings Growth YOY</th>\n",
              "      <th>FCF Growth</th>\n",
              "      <th>FCF Growth QOQ</th>\n",
              "      <th>FCF Growth YOY</th>\n",
              "      <th>Sales Growth</th>\n",
              "      <th>Sales Growth QOQ</th>\n",
              "      <th>Sales Growth YOY</th>\n",
              "    </tr>\n",
              "    <tr>\n",
              "      <th>Ticker</th>\n",
              "      <th>Date</th>\n",
              "      <th></th>\n",
              "      <th></th>\n",
              "      <th></th>\n",
              "      <th></th>\n",
              "      <th></th>\n",
              "      <th></th>\n",
              "      <th></th>\n",
              "      <th></th>\n",
              "      <th></th>\n",
              "    </tr>\n",
              "  </thead>\n",
              "  <tbody>\n",
              "    <tr>\n",
              "      <th>A</th>\n",
              "      <th>2020-03-12</th>\n",
              "      <td>4.816327</td>\n",
              "      <td>1.584615</td>\n",
              "      <td>-2.575000</td>\n",
              "      <td>0.186224</td>\n",
              "      <td>-0.483680</td>\n",
              "      <td>0.122581</td>\n",
              "      <td>0.080373</td>\n",
              "      <td>-0.007728</td>\n",
              "      <td>0.060281</td>\n",
              "    </tr>\n",
              "    <tr>\n",
              "      <th>AA</th>\n",
              "      <th>2020-03-12</th>\n",
              "      <td>0.046083</td>\n",
              "      <td>-2.048780</td>\n",
              "      <td>-1.219388</td>\n",
              "      <td>-0.940171</td>\n",
              "      <td>0.878641</td>\n",
              "      <td>0.264706</td>\n",
              "      <td>0.150275</td>\n",
              "      <td>-0.013569</td>\n",
              "      <td>0.053560</td>\n",
              "    </tr>\n",
              "    <tr>\n",
              "      <th>AAL</th>\n",
              "      <th>2020-03-12</th>\n",
              "      <td>-0.264200</td>\n",
              "      <td>-0.064516</td>\n",
              "      <td>0.236434</td>\n",
              "      <td>-5.242857</td>\n",
              "      <td>-1.539419</td>\n",
              "      <td>-1.304094</td>\n",
              "      <td>0.055299</td>\n",
              "      <td>-0.053724</td>\n",
              "      <td>0.031887</td>\n",
              "    </tr>\n",
              "    <tr>\n",
              "      <th>AAN</th>\n",
              "      <th>2020-03-12</th>\n",
              "      <td>-0.329279</td>\n",
              "      <td>0.412237</td>\n",
              "      <td>-0.652270</td>\n",
              "      <td>1.519114</td>\n",
              "      <td>-1.371859</td>\n",
              "      <td>-0.166560</td>\n",
              "      <td>0.131576</td>\n",
              "      <td>0.042088</td>\n",
              "      <td>0.122715</td>\n",
              "    </tr>\n",
              "    <tr>\n",
              "      <th>AAOI</th>\n",
              "      <th>2020-03-12</th>\n",
              "      <td>-1.029019</td>\n",
              "      <td>1.295820</td>\n",
              "      <td>-2.498950</td>\n",
              "      <td>-4.390864</td>\n",
              "      <td>1.361792</td>\n",
              "      <td>-6.006395</td>\n",
              "      <td>-0.300432</td>\n",
              "      <td>0.028943</td>\n",
              "      <td>-0.273458</td>\n",
              "    </tr>\n",
              "  </tbody>\n",
              "</table>\n",
              "</div>"
            ],
            "text/plain": [
              "                   Earnings Growth  ...  Sales Growth YOY\n",
              "Ticker Date                         ...                  \n",
              "A      2020-03-12         4.816327  ...          0.060281\n",
              "AA     2020-03-12         0.046083  ...          0.053560\n",
              "AAL    2020-03-12        -0.264200  ...          0.031887\n",
              "AAN    2020-03-12        -0.329279  ...          0.122715\n",
              "AAOI   2020-03-12        -1.029019  ...         -0.273458\n",
              "\n",
              "[5 rows x 9 columns]"
            ]
          },
          "metadata": {
            "tags": []
          },
          "execution_count": 18
        }
      ]
    },
    {
      "cell_type": "markdown",
      "metadata": {
        "id": "bRWFUHQCg3GS",
        "colab_type": "text"
      },
      "source": [
        "We then pass the argument `func=sf.avg_ttm_2y` to `hub.growth_signals` so as to calculate 2-year averages of the growth signals. We then get another DataFrame with the 2-year average Earnings Growth, FCF Growth, Sales Growth, etc."
      ]
    },
    {
      "cell_type": "code",
      "metadata": {
        "id": "GO3V5CI3g3GS",
        "colab_type": "code",
        "colab": {
          "base_uri": "https://localhost:8080/",
          "height": 102
        },
        "outputId": "b463347a-a37f-452b-90ae-f6f1e0eb58eb"
      },
      "source": [
        "%%time\n",
        "df_growth_signals_2y = hub.growth_signals(variant='latest',\n",
        "                                          func=sf.avg_ttm_2y)"
      ],
      "execution_count": 19,
      "outputs": [
        {
          "output_type": "stream",
          "text": [
            "Cache-file 'growth_signals-4a256f6a.pickle' not on disk.\n",
            "- Running function growth_signals() ... Done!\n",
            "- Saving cache-file to disk ... Done!\n",
            "CPU times: user 25.3 s, sys: 61.3 ms, total: 25.3 s\n",
            "Wall time: 25.4 s\n"
          ],
          "name": "stdout"
        }
      ]
    },
    {
      "cell_type": "code",
      "metadata": {
        "id": "stJbDGXkg3GV",
        "colab_type": "code",
        "colab": {
          "base_uri": "https://localhost:8080/",
          "height": 235
        },
        "outputId": "b8563041-27a3-4260-cc22-19768e659816"
      },
      "source": [
        "df_growth_signals_2y.dropna().head()"
      ],
      "execution_count": 20,
      "outputs": [
        {
          "output_type": "execute_result",
          "data": {
            "text/html": [
              "<div>\n",
              "<style scoped>\n",
              "    .dataframe tbody tr th:only-of-type {\n",
              "        vertical-align: middle;\n",
              "    }\n",
              "\n",
              "    .dataframe tbody tr th {\n",
              "        vertical-align: top;\n",
              "    }\n",
              "\n",
              "    .dataframe thead th {\n",
              "        text-align: right;\n",
              "    }\n",
              "</style>\n",
              "<table border=\"1\" class=\"dataframe\">\n",
              "  <thead>\n",
              "    <tr style=\"text-align: right;\">\n",
              "      <th></th>\n",
              "      <th></th>\n",
              "      <th>Earnings Growth</th>\n",
              "      <th>Earnings Growth QOQ</th>\n",
              "      <th>Earnings Growth YOY</th>\n",
              "      <th>FCF Growth</th>\n",
              "      <th>FCF Growth QOQ</th>\n",
              "      <th>FCF Growth YOY</th>\n",
              "      <th>Sales Growth</th>\n",
              "      <th>Sales Growth QOQ</th>\n",
              "      <th>Sales Growth YOY</th>\n",
              "    </tr>\n",
              "    <tr>\n",
              "      <th>Ticker</th>\n",
              "      <th>Date</th>\n",
              "      <th></th>\n",
              "      <th></th>\n",
              "      <th></th>\n",
              "      <th></th>\n",
              "      <th></th>\n",
              "      <th></th>\n",
              "      <th></th>\n",
              "      <th></th>\n",
              "      <th></th>\n",
              "    </tr>\n",
              "  </thead>\n",
              "  <tbody>\n",
              "    <tr>\n",
              "      <th>A</th>\n",
              "      <th>2020-03-12</th>\n",
              "      <td>2.100698</td>\n",
              "      <td>-0.611647</td>\n",
              "      <td>-2.739881</td>\n",
              "      <td>0.182586</td>\n",
              "      <td>-0.404883</td>\n",
              "      <td>0.483909</td>\n",
              "      <td>0.084398</td>\n",
              "      <td>0.005387</td>\n",
              "      <td>0.097619</td>\n",
              "    </tr>\n",
              "    <tr>\n",
              "      <th>AAL</th>\n",
              "      <th>2020-03-12</th>\n",
              "      <td>-0.273543</td>\n",
              "      <td>-0.325527</td>\n",
              "      <td>0.064584</td>\n",
              "      <td>-3.274267</td>\n",
              "      <td>-0.382780</td>\n",
              "      <td>-0.595406</td>\n",
              "      <td>0.052873</td>\n",
              "      <td>-0.039640</td>\n",
              "      <td>0.057423</td>\n",
              "    </tr>\n",
              "    <tr>\n",
              "      <th>AAN</th>\n",
              "      <th>2020-03-12</th>\n",
              "      <td>0.385510</td>\n",
              "      <td>3.209532</td>\n",
              "      <td>3.278160</td>\n",
              "      <td>0.392771</td>\n",
              "      <td>-1.515437</td>\n",
              "      <td>2.011237</td>\n",
              "      <td>0.093221</td>\n",
              "      <td>0.048309</td>\n",
              "      <td>0.117759</td>\n",
              "    </tr>\n",
              "    <tr>\n",
              "      <th>AAOI</th>\n",
              "      <th>2020-03-12</th>\n",
              "      <td>0.169313</td>\n",
              "      <td>0.295420</td>\n",
              "      <td>-1.548561</td>\n",
              "      <td>-1.503961</td>\n",
              "      <td>-0.071668</td>\n",
              "      <td>-3.331621</td>\n",
              "      <td>0.083021</td>\n",
              "      <td>-0.036294</td>\n",
              "      <td>-0.166440</td>\n",
              "    </tr>\n",
              "    <tr>\n",
              "      <th>AAON</th>\n",
              "      <th>2020-03-12</th>\n",
              "      <td>-0.098907</td>\n",
              "      <td>-0.019213</td>\n",
              "      <td>0.088040</td>\n",
              "      <td>-0.241691</td>\n",
              "      <td>-9.740884</td>\n",
              "      <td>3.554053</td>\n",
              "      <td>0.063108</td>\n",
              "      <td>-0.044467</td>\n",
              "      <td>0.107404</td>\n",
              "    </tr>\n",
              "  </tbody>\n",
              "</table>\n",
              "</div>"
            ],
            "text/plain": [
              "                   Earnings Growth  ...  Sales Growth YOY\n",
              "Ticker Date                         ...                  \n",
              "A      2020-03-12         2.100698  ...          0.097619\n",
              "AAL    2020-03-12        -0.273543  ...          0.057423\n",
              "AAN    2020-03-12         0.385510  ...          0.117759\n",
              "AAOI   2020-03-12         0.169313  ...         -0.166440\n",
              "AAON   2020-03-12        -0.098907  ...          0.107404\n",
              "\n",
              "[5 rows x 9 columns]"
            ]
          },
          "metadata": {
            "tags": []
          },
          "execution_count": 20
        }
      ]
    },
    {
      "cell_type": "markdown",
      "metadata": {
        "id": "Ry7F_qh7g3GX",
        "colab_type": "text"
      },
      "source": [
        "## Valuation Signals\n",
        "\n",
        "Now we calculate valuation signals for the stocks, such as P/E, P/Sales, etc. These are calculated from the share-prices and data from the financial reports. Because the data-hub has already loaded the required datasets in the function-calls above, the data is merely reused here, and the data-hub can proceed directly to computing the signals."
      ]
    },
    {
      "cell_type": "code",
      "metadata": {
        "id": "SzXycHv3g3GX",
        "colab_type": "code",
        "colab": {
          "base_uri": "https://localhost:8080/",
          "height": 102
        },
        "outputId": "3554e6c3-9f6c-481b-8b7b-0f32c86bc761"
      },
      "source": [
        "%%time\n",
        "df_val_signals = hub.val_signals(variant='latest')"
      ],
      "execution_count": 21,
      "outputs": [
        {
          "output_type": "stream",
          "text": [
            "Cache-file 'val_signals-9541e2e6.pickle' not on disk.\n",
            "- Running function val_signals() ... Done!\n",
            "- Saving cache-file to disk ... Done!\n",
            "CPU times: user 3.82 s, sys: 21.1 ms, total: 3.84 s\n",
            "Wall time: 3.83 s\n"
          ],
          "name": "stdout"
        }
      ]
    },
    {
      "cell_type": "code",
      "metadata": {
        "id": "GQjiIS9Qg3GZ",
        "colab_type": "code",
        "colab": {
          "base_uri": "https://localhost:8080/",
          "height": 235
        },
        "outputId": "5be05eef-9da0-48e3-d332-6d6345eb99d8"
      },
      "source": [
        "df_val_signals.dropna().head()"
      ],
      "execution_count": 22,
      "outputs": [
        {
          "output_type": "execute_result",
          "data": {
            "text/html": [
              "<div>\n",
              "<style scoped>\n",
              "    .dataframe tbody tr th:only-of-type {\n",
              "        vertical-align: middle;\n",
              "    }\n",
              "\n",
              "    .dataframe tbody tr th {\n",
              "        vertical-align: top;\n",
              "    }\n",
              "\n",
              "    .dataframe thead th {\n",
              "        text-align: right;\n",
              "    }\n",
              "</style>\n",
              "<table border=\"1\" class=\"dataframe\">\n",
              "  <thead>\n",
              "    <tr style=\"text-align: right;\">\n",
              "      <th></th>\n",
              "      <th></th>\n",
              "      <th>Dividend Yield</th>\n",
              "      <th>Earnings Yield</th>\n",
              "      <th>FCF Yield</th>\n",
              "      <th>Market-Cap</th>\n",
              "      <th>P/Book</th>\n",
              "      <th>P/E</th>\n",
              "      <th>P/FCF</th>\n",
              "      <th>P/NCAV</th>\n",
              "      <th>P/NetNet</th>\n",
              "      <th>P/Sales</th>\n",
              "    </tr>\n",
              "    <tr>\n",
              "      <th>Ticker</th>\n",
              "      <th>Date</th>\n",
              "      <th></th>\n",
              "      <th></th>\n",
              "      <th></th>\n",
              "      <th></th>\n",
              "      <th></th>\n",
              "      <th></th>\n",
              "      <th></th>\n",
              "      <th></th>\n",
              "      <th></th>\n",
              "      <th></th>\n",
              "    </tr>\n",
              "  </thead>\n",
              "  <tbody>\n",
              "    <tr>\n",
              "      <th>A</th>\n",
              "      <th>2020-03-12</th>\n",
              "      <td>0.009468</td>\n",
              "      <td>0.055352</td>\n",
              "      <td>0.045155</td>\n",
              "      <td>2.059564e+10</td>\n",
              "      <td>4.089683</td>\n",
              "      <td>18.066355</td>\n",
              "      <td>22.145855</td>\n",
              "      <td>-100.959044</td>\n",
              "      <td>-22.688675</td>\n",
              "      <td>4.129867</td>\n",
              "    </tr>\n",
              "    <tr>\n",
              "      <th>AAL</th>\n",
              "      <th>2020-03-12</th>\n",
              "      <td>0.029698</td>\n",
              "      <td>0.225446</td>\n",
              "      <td>0.189682</td>\n",
              "      <td>6.263127e+09</td>\n",
              "      <td>-37.059923</td>\n",
              "      <td>4.435642</td>\n",
              "      <td>5.271992</td>\n",
              "      <td>-0.120186</td>\n",
              "      <td>-0.116095</td>\n",
              "      <td>0.140615</td>\n",
              "    </tr>\n",
              "    <tr>\n",
              "      <th>AAN</th>\n",
              "      <th>2020-03-12</th>\n",
              "      <td>0.003186</td>\n",
              "      <td>0.100119</td>\n",
              "      <td>0.146366</td>\n",
              "      <td>1.959773e+09</td>\n",
              "      <td>1.113059</td>\n",
              "      <td>9.988139</td>\n",
              "      <td>6.832190</td>\n",
              "      <td>4.158898</td>\n",
              "      <td>-7.516282</td>\n",
              "      <td>0.511834</td>\n",
              "    </tr>\n",
              "    <tr>\n",
              "      <th>AAP</th>\n",
              "      <th>2020-03-12</th>\n",
              "      <td>0.002206</td>\n",
              "      <td>0.052472</td>\n",
              "      <td>0.076657</td>\n",
              "      <td>8.077597e+09</td>\n",
              "      <td>2.274859</td>\n",
              "      <td>19.057814</td>\n",
              "      <td>13.045194</td>\n",
              "      <td>13.630338</td>\n",
              "      <td>-4.156628</td>\n",
              "      <td>0.843124</td>\n",
              "    </tr>\n",
              "    <tr>\n",
              "      <th>AAPL</th>\n",
              "      <th>2020-03-12</th>\n",
              "      <td>0.011452</td>\n",
              "      <td>0.048821</td>\n",
              "      <td>0.050910</td>\n",
              "      <td>1.217314e+12</td>\n",
              "      <td>10.325669</td>\n",
              "      <td>20.482808</td>\n",
              "      <td>19.642647</td>\n",
              "      <td>-10.585429</td>\n",
              "      <td>-7.938231</td>\n",
              "      <td>4.653127</td>\n",
              "    </tr>\n",
              "  </tbody>\n",
              "</table>\n",
              "</div>"
            ],
            "text/plain": [
              "                   Dividend Yield  Earnings Yield  ...   P/NetNet   P/Sales\n",
              "Ticker Date                                        ...                     \n",
              "A      2020-03-12        0.009468        0.055352  ... -22.688675  4.129867\n",
              "AAL    2020-03-12        0.029698        0.225446  ...  -0.116095  0.140615\n",
              "AAN    2020-03-12        0.003186        0.100119  ...  -7.516282  0.511834\n",
              "AAP    2020-03-12        0.002206        0.052472  ...  -4.156628  0.843124\n",
              "AAPL   2020-03-12        0.011452        0.048821  ...  -7.938231  4.653127\n",
              "\n",
              "[5 rows x 10 columns]"
            ]
          },
          "metadata": {
            "tags": []
          },
          "execution_count": 22
        }
      ]
    },
    {
      "cell_type": "markdown",
      "metadata": {
        "id": "hT6dkKnNg3Gd",
        "colab_type": "text"
      },
      "source": [
        "We then pass the argument `func=sf.avg_ttm_2y` to `hub.val_signals` so as to calculate the valuation signals using 2-year averages of the financial data. We then get another DataFrame with e.g. P/E and P/Sales ratios calculated from the 2-year average Earnings and Sales."
      ]
    },
    {
      "cell_type": "code",
      "metadata": {
        "id": "KULiZbakg3Ge",
        "colab_type": "code",
        "colab": {
          "base_uri": "https://localhost:8080/",
          "height": 102
        },
        "outputId": "5bade179-4b4c-41b4-ac06-7f243c69a34a"
      },
      "source": [
        "%%time\n",
        "df_val_signals_2y = hub.val_signals(variant='latest',\n",
        "                                    func=sf.avg_ttm_2y)"
      ],
      "execution_count": 23,
      "outputs": [
        {
          "output_type": "stream",
          "text": [
            "Cache-file 'val_signals-2eee516b.pickle' not on disk.\n",
            "- Running function val_signals() ... Done!\n",
            "- Saving cache-file to disk ... Done!\n",
            "CPU times: user 19.2 s, sys: 38.1 ms, total: 19.3 s\n",
            "Wall time: 19.3 s\n"
          ],
          "name": "stdout"
        }
      ]
    },
    {
      "cell_type": "code",
      "metadata": {
        "scrolled": true,
        "id": "ZM50iTmwg3Gg",
        "colab_type": "code",
        "colab": {
          "base_uri": "https://localhost:8080/",
          "height": 235
        },
        "outputId": "16bda96d-e17f-4890-acf2-4231517374bd"
      },
      "source": [
        "df_val_signals_2y.dropna().head()"
      ],
      "execution_count": 24,
      "outputs": [
        {
          "output_type": "execute_result",
          "data": {
            "text/html": [
              "<div>\n",
              "<style scoped>\n",
              "    .dataframe tbody tr th:only-of-type {\n",
              "        vertical-align: middle;\n",
              "    }\n",
              "\n",
              "    .dataframe tbody tr th {\n",
              "        vertical-align: top;\n",
              "    }\n",
              "\n",
              "    .dataframe thead th {\n",
              "        text-align: right;\n",
              "    }\n",
              "</style>\n",
              "<table border=\"1\" class=\"dataframe\">\n",
              "  <thead>\n",
              "    <tr style=\"text-align: right;\">\n",
              "      <th></th>\n",
              "      <th></th>\n",
              "      <th>Dividend Yield</th>\n",
              "      <th>Earnings Yield</th>\n",
              "      <th>FCF Yield</th>\n",
              "      <th>Market-Cap</th>\n",
              "      <th>P/Book</th>\n",
              "      <th>P/E</th>\n",
              "      <th>P/FCF</th>\n",
              "      <th>P/NCAV</th>\n",
              "      <th>P/NetNet</th>\n",
              "      <th>P/Sales</th>\n",
              "    </tr>\n",
              "    <tr>\n",
              "      <th>Ticker</th>\n",
              "      <th>Date</th>\n",
              "      <th></th>\n",
              "      <th></th>\n",
              "      <th></th>\n",
              "      <th></th>\n",
              "      <th></th>\n",
              "      <th></th>\n",
              "      <th></th>\n",
              "      <th></th>\n",
              "      <th></th>\n",
              "      <th></th>\n",
              "    </tr>\n",
              "  </thead>\n",
              "  <tbody>\n",
              "    <tr>\n",
              "      <th>A</th>\n",
              "      <th>2020-03-12</th>\n",
              "      <td>0.009007</td>\n",
              "      <td>0.032434</td>\n",
              "      <td>0.041611</td>\n",
              "      <td>2.059564e+10</td>\n",
              "      <td>4.307811</td>\n",
              "      <td>30.831804</td>\n",
              "      <td>24.032258</td>\n",
              "      <td>1961.490000</td>\n",
              "      <td>-31.076039</td>\n",
              "      <td>4.289419</td>\n",
              "    </tr>\n",
              "    <tr>\n",
              "      <th>AAL</th>\n",
              "      <th>2020-03-12</th>\n",
              "      <td>0.030656</td>\n",
              "      <td>0.265921</td>\n",
              "      <td>0.072488</td>\n",
              "      <td>6.263127e+09</td>\n",
              "      <td>-13.199425</td>\n",
              "      <td>3.760509</td>\n",
              "      <td>13.795434</td>\n",
              "      <td>-0.129764</td>\n",
              "      <td>-0.124696</td>\n",
              "      <td>0.144398</td>\n",
              "    </tr>\n",
              "    <tr>\n",
              "      <th>AAN</th>\n",
              "      <th>2020-03-12</th>\n",
              "      <td>0.003624</td>\n",
              "      <td>0.124695</td>\n",
              "      <td>0.102234</td>\n",
              "      <td>1.959773e+09</td>\n",
              "      <td>1.123494</td>\n",
              "      <td>8.019596</td>\n",
              "      <td>9.781477</td>\n",
              "      <td>3.934662</td>\n",
              "      <td>-8.550618</td>\n",
              "      <td>0.543428</td>\n",
              "    </tr>\n",
              "    <tr>\n",
              "      <th>AAP</th>\n",
              "      <th>2020-03-12</th>\n",
              "      <td>0.002208</td>\n",
              "      <td>0.055670</td>\n",
              "      <td>0.064459</td>\n",
              "      <td>8.077597e+09</td>\n",
              "      <td>2.319146</td>\n",
              "      <td>17.963150</td>\n",
              "      <td>15.513748</td>\n",
              "      <td>16.962509</td>\n",
              "      <td>-4.116540</td>\n",
              "      <td>0.852322</td>\n",
              "    </tr>\n",
              "    <tr>\n",
              "      <th>AAPL</th>\n",
              "      <th>2020-03-12</th>\n",
              "      <td>0.011057</td>\n",
              "      <td>0.045163</td>\n",
              "      <td>0.047406</td>\n",
              "      <td>1.217314e+12</td>\n",
              "      <td>9.433214</td>\n",
              "      <td>22.141834</td>\n",
              "      <td>21.094368</td>\n",
              "      <td>-10.238820</td>\n",
              "      <td>-7.537552</td>\n",
              "      <td>4.861593</td>\n",
              "    </tr>\n",
              "  </tbody>\n",
              "</table>\n",
              "</div>"
            ],
            "text/plain": [
              "                   Dividend Yield  Earnings Yield  ...   P/NetNet   P/Sales\n",
              "Ticker Date                                        ...                     \n",
              "A      2020-03-12        0.009007        0.032434  ... -31.076039  4.289419\n",
              "AAL    2020-03-12        0.030656        0.265921  ...  -0.124696  0.144398\n",
              "AAN    2020-03-12        0.003624        0.124695  ...  -8.550618  0.543428\n",
              "AAP    2020-03-12        0.002208        0.055670  ...  -4.116540  0.852322\n",
              "AAPL   2020-03-12        0.011057        0.045163  ...  -7.537552  4.861593\n",
              "\n",
              "[5 rows x 10 columns]"
            ]
          },
          "metadata": {
            "tags": []
          },
          "execution_count": 24
        }
      ]
    },
    {
      "cell_type": "markdown",
      "metadata": {
        "id": "FT2CF8Iwg3Gi",
        "colab_type": "text"
      },
      "source": [
        "## Combine Signals\n",
        "\n",
        "We now combine all the basic signals into a single DataFrame:"
      ]
    },
    {
      "cell_type": "code",
      "metadata": {
        "id": "SQIvYgz1g3Gi",
        "colab_type": "code",
        "colab": {
          "base_uri": "https://localhost:8080/",
          "height": 374
        },
        "outputId": "934f0c42-e41a-49b7-e307-7350eca73013"
      },
      "source": [
        "# Combine the DataFrames.\n",
        "dfs = [df_fin_signals, df_growth_signals, df_val_signals]\n",
        "df_signals = pd.concat(dfs, axis=1)\n",
        "\n",
        "# Show the result.\n",
        "df_signals.head()"
      ],
      "execution_count": 25,
      "outputs": [
        {
          "output_type": "execute_result",
          "data": {
            "text/html": [
              "<div>\n",
              "<style scoped>\n",
              "    .dataframe tbody tr th:only-of-type {\n",
              "        vertical-align: middle;\n",
              "    }\n",
              "\n",
              "    .dataframe tbody tr th {\n",
              "        vertical-align: top;\n",
              "    }\n",
              "\n",
              "    .dataframe thead th {\n",
              "        text-align: right;\n",
              "    }\n",
              "</style>\n",
              "<table border=\"1\" class=\"dataframe\">\n",
              "  <thead>\n",
              "    <tr style=\"text-align: right;\">\n",
              "      <th></th>\n",
              "      <th></th>\n",
              "      <th>Asset Turnover</th>\n",
              "      <th>Current Ratio</th>\n",
              "      <th>Debt Ratio</th>\n",
              "      <th>Gross Profit Margin</th>\n",
              "      <th>Net Profit Margin</th>\n",
              "      <th>Return on Assets</th>\n",
              "      <th>Return on Equity</th>\n",
              "      <th>Earnings Growth</th>\n",
              "      <th>Earnings Growth QOQ</th>\n",
              "      <th>Earnings Growth YOY</th>\n",
              "      <th>FCF Growth</th>\n",
              "      <th>FCF Growth QOQ</th>\n",
              "      <th>FCF Growth YOY</th>\n",
              "      <th>Sales Growth</th>\n",
              "      <th>Sales Growth QOQ</th>\n",
              "      <th>Sales Growth YOY</th>\n",
              "      <th>Dividend Yield</th>\n",
              "      <th>Earnings Yield</th>\n",
              "      <th>FCF Yield</th>\n",
              "      <th>Market-Cap</th>\n",
              "      <th>P/Book</th>\n",
              "      <th>P/E</th>\n",
              "      <th>P/FCF</th>\n",
              "      <th>P/NCAV</th>\n",
              "      <th>P/NetNet</th>\n",
              "      <th>P/Sales</th>\n",
              "    </tr>\n",
              "    <tr>\n",
              "      <th>Ticker</th>\n",
              "      <th>Date</th>\n",
              "      <th></th>\n",
              "      <th></th>\n",
              "      <th></th>\n",
              "      <th></th>\n",
              "      <th></th>\n",
              "      <th></th>\n",
              "      <th></th>\n",
              "      <th></th>\n",
              "      <th></th>\n",
              "      <th></th>\n",
              "      <th></th>\n",
              "      <th></th>\n",
              "      <th></th>\n",
              "      <th></th>\n",
              "      <th></th>\n",
              "      <th></th>\n",
              "      <th></th>\n",
              "      <th></th>\n",
              "      <th></th>\n",
              "      <th></th>\n",
              "      <th></th>\n",
              "      <th></th>\n",
              "      <th></th>\n",
              "      <th></th>\n",
              "      <th></th>\n",
              "      <th></th>\n",
              "    </tr>\n",
              "  </thead>\n",
              "  <tbody>\n",
              "    <tr>\n",
              "      <th>A</th>\n",
              "      <th>2020-03-12</th>\n",
              "      <td>0.573350</td>\n",
              "      <td>3.389954</td>\n",
              "      <td>0.210631</td>\n",
              "      <td>0.545619</td>\n",
              "      <td>0.228594</td>\n",
              "      <td>0.131065</td>\n",
              "      <td>0.251878</td>\n",
              "      <td>4.816327</td>\n",
              "      <td>1.584615</td>\n",
              "      <td>-2.575000</td>\n",
              "      <td>0.186224</td>\n",
              "      <td>-0.483680</td>\n",
              "      <td>0.122581</td>\n",
              "      <td>0.080373</td>\n",
              "      <td>-0.007728</td>\n",
              "      <td>0.060281</td>\n",
              "      <td>0.009468</td>\n",
              "      <td>0.055352</td>\n",
              "      <td>0.045155</td>\n",
              "      <td>2.059564e+10</td>\n",
              "      <td>4.089683</td>\n",
              "      <td>18.066355</td>\n",
              "      <td>22.145855</td>\n",
              "      <td>-100.959044</td>\n",
              "      <td>-22.688675</td>\n",
              "      <td>4.129867</td>\n",
              "    </tr>\n",
              "    <tr>\n",
              "      <th>AA</th>\n",
              "      <th>2020-03-12</th>\n",
              "      <td>0.768212</td>\n",
              "      <td>1.416238</td>\n",
              "      <td>0.113063</td>\n",
              "      <td>0.247855</td>\n",
              "      <td>0.016937</td>\n",
              "      <td>0.013011</td>\n",
              "      <td>0.033392</td>\n",
              "      <td>0.046083</td>\n",
              "      <td>-2.048780</td>\n",
              "      <td>-1.219388</td>\n",
              "      <td>-0.940171</td>\n",
              "      <td>0.878641</td>\n",
              "      <td>0.264706</td>\n",
              "      <td>0.150275</td>\n",
              "      <td>-0.013569</td>\n",
              "      <td>0.053560</td>\n",
              "      <td>NaN</td>\n",
              "      <td>0.159928</td>\n",
              "      <td>0.034522</td>\n",
              "      <td>1.419390e+09</td>\n",
              "      <td>0.191965</td>\n",
              "      <td>6.252819</td>\n",
              "      <td>28.967143</td>\n",
              "      <td>-0.321857</td>\n",
              "      <td>-0.237098</td>\n",
              "      <td>0.105901</td>\n",
              "    </tr>\n",
              "    <tr>\n",
              "      <th>AAC</th>\n",
              "      <th>2019-11-04</th>\n",
              "      <td>NaN</td>\n",
              "      <td>2.117862</td>\n",
              "      <td>0.500277</td>\n",
              "      <td>0.402427</td>\n",
              "      <td>-0.077948</td>\n",
              "      <td>NaN</td>\n",
              "      <td>NaN</td>\n",
              "      <td>NaN</td>\n",
              "      <td>-0.970076</td>\n",
              "      <td>-2.029010</td>\n",
              "      <td>NaN</td>\n",
              "      <td>-0.254475</td>\n",
              "      <td>1.312272</td>\n",
              "      <td>NaN</td>\n",
              "      <td>0.009495</td>\n",
              "      <td>0.117693</td>\n",
              "      <td>NaN</td>\n",
              "      <td>-2.166485</td>\n",
              "      <td>-3.940417</td>\n",
              "      <td>1.034256e+07</td>\n",
              "      <td>0.066510</td>\n",
              "      <td>-0.461577</td>\n",
              "      <td>-0.253780</td>\n",
              "      <td>-0.075938</td>\n",
              "      <td>-0.062823</td>\n",
              "      <td>0.035979</td>\n",
              "    </tr>\n",
              "    <tr>\n",
              "      <th>AAL</th>\n",
              "      <th>2020-03-12</th>\n",
              "      <td>0.843819</td>\n",
              "      <td>0.477288</td>\n",
              "      <td>0.403978</td>\n",
              "      <td>0.266945</td>\n",
              "      <td>0.031701</td>\n",
              "      <td>0.026750</td>\n",
              "      <td>-1.810256</td>\n",
              "      <td>-0.264200</td>\n",
              "      <td>-0.064516</td>\n",
              "      <td>0.236434</td>\n",
              "      <td>-5.242857</td>\n",
              "      <td>-1.539419</td>\n",
              "      <td>-1.304094</td>\n",
              "      <td>0.055299</td>\n",
              "      <td>-0.053724</td>\n",
              "      <td>0.031887</td>\n",
              "      <td>0.029698</td>\n",
              "      <td>0.225446</td>\n",
              "      <td>0.189682</td>\n",
              "      <td>6.263127e+09</td>\n",
              "      <td>-37.059923</td>\n",
              "      <td>4.435642</td>\n",
              "      <td>5.271992</td>\n",
              "      <td>-0.120186</td>\n",
              "      <td>-0.116095</td>\n",
              "      <td>0.140615</td>\n",
              "    </tr>\n",
              "    <tr>\n",
              "      <th>AAME</th>\n",
              "      <th>2020-03-12</th>\n",
              "      <td>NaN</td>\n",
              "      <td>NaN</td>\n",
              "      <td>NaN</td>\n",
              "      <td>NaN</td>\n",
              "      <td>NaN</td>\n",
              "      <td>NaN</td>\n",
              "      <td>NaN</td>\n",
              "      <td>NaN</td>\n",
              "      <td>NaN</td>\n",
              "      <td>NaN</td>\n",
              "      <td>NaN</td>\n",
              "      <td>NaN</td>\n",
              "      <td>NaN</td>\n",
              "      <td>NaN</td>\n",
              "      <td>NaN</td>\n",
              "      <td>NaN</td>\n",
              "      <td>NaN</td>\n",
              "      <td>NaN</td>\n",
              "      <td>NaN</td>\n",
              "      <td>NaN</td>\n",
              "      <td>NaN</td>\n",
              "      <td>NaN</td>\n",
              "      <td>NaN</td>\n",
              "      <td>NaN</td>\n",
              "      <td>NaN</td>\n",
              "      <td>NaN</td>\n",
              "    </tr>\n",
              "  </tbody>\n",
              "</table>\n",
              "</div>"
            ],
            "text/plain": [
              "                   Asset Turnover  Current Ratio  ...   P/NetNet   P/Sales\n",
              "Ticker Date                                       ...                     \n",
              "A      2020-03-12        0.573350       3.389954  ... -22.688675  4.129867\n",
              "AA     2020-03-12        0.768212       1.416238  ...  -0.237098  0.105901\n",
              "AAC    2019-11-04             NaN       2.117862  ...  -0.062823  0.035979\n",
              "AAL    2020-03-12        0.843819       0.477288  ...  -0.116095  0.140615\n",
              "AAME   2020-03-12             NaN            NaN  ...        NaN       NaN\n",
              "\n",
              "[5 rows x 26 columns]"
            ]
          },
          "metadata": {
            "tags": []
          },
          "execution_count": 25
        }
      ]
    },
    {
      "cell_type": "markdown",
      "metadata": {
        "id": "CuVwhbxBg3Gk",
        "colab_type": "text"
      },
      "source": [
        "Then we combine all the signals for multi-year averages into another DataFrame:"
      ]
    },
    {
      "cell_type": "code",
      "metadata": {
        "id": "UwLK83t4g3Gl",
        "colab_type": "code",
        "colab": {
          "base_uri": "https://localhost:8080/",
          "height": 374
        },
        "outputId": "4aab2d23-2f22-4c82-c2bb-bc8baffe370c"
      },
      "source": [
        "# Combine the DataFrames.\n",
        "dfs = [df_fin_signals_2y, df_growth_signals_2y, df_val_signals_2y]\n",
        "df_signals_2y = pd.concat(dfs, axis=1)\n",
        "\n",
        "# Show the result.\n",
        "df_signals_2y.head()"
      ],
      "execution_count": 26,
      "outputs": [
        {
          "output_type": "execute_result",
          "data": {
            "text/html": [
              "<div>\n",
              "<style scoped>\n",
              "    .dataframe tbody tr th:only-of-type {\n",
              "        vertical-align: middle;\n",
              "    }\n",
              "\n",
              "    .dataframe tbody tr th {\n",
              "        vertical-align: top;\n",
              "    }\n",
              "\n",
              "    .dataframe thead th {\n",
              "        text-align: right;\n",
              "    }\n",
              "</style>\n",
              "<table border=\"1\" class=\"dataframe\">\n",
              "  <thead>\n",
              "    <tr style=\"text-align: right;\">\n",
              "      <th></th>\n",
              "      <th></th>\n",
              "      <th>Asset Turnover</th>\n",
              "      <th>Current Ratio</th>\n",
              "      <th>Debt Ratio</th>\n",
              "      <th>Gross Profit Margin</th>\n",
              "      <th>Net Profit Margin</th>\n",
              "      <th>Return on Assets</th>\n",
              "      <th>Return on Equity</th>\n",
              "      <th>Earnings Growth</th>\n",
              "      <th>Earnings Growth QOQ</th>\n",
              "      <th>Earnings Growth YOY</th>\n",
              "      <th>FCF Growth</th>\n",
              "      <th>FCF Growth QOQ</th>\n",
              "      <th>FCF Growth YOY</th>\n",
              "      <th>Sales Growth</th>\n",
              "      <th>Sales Growth QOQ</th>\n",
              "      <th>Sales Growth YOY</th>\n",
              "      <th>Dividend Yield</th>\n",
              "      <th>Earnings Yield</th>\n",
              "      <th>FCF Yield</th>\n",
              "      <th>Market-Cap</th>\n",
              "      <th>P/Book</th>\n",
              "      <th>P/E</th>\n",
              "      <th>P/FCF</th>\n",
              "      <th>P/NCAV</th>\n",
              "      <th>P/NetNet</th>\n",
              "      <th>P/Sales</th>\n",
              "    </tr>\n",
              "    <tr>\n",
              "      <th>Ticker</th>\n",
              "      <th>Date</th>\n",
              "      <th></th>\n",
              "      <th></th>\n",
              "      <th></th>\n",
              "      <th></th>\n",
              "      <th></th>\n",
              "      <th></th>\n",
              "      <th></th>\n",
              "      <th></th>\n",
              "      <th></th>\n",
              "      <th></th>\n",
              "      <th></th>\n",
              "      <th></th>\n",
              "      <th></th>\n",
              "      <th></th>\n",
              "      <th></th>\n",
              "      <th></th>\n",
              "      <th></th>\n",
              "      <th></th>\n",
              "      <th></th>\n",
              "      <th></th>\n",
              "      <th></th>\n",
              "      <th></th>\n",
              "      <th></th>\n",
              "      <th></th>\n",
              "      <th></th>\n",
              "      <th></th>\n",
              "    </tr>\n",
              "  </thead>\n",
              "  <tbody>\n",
              "    <tr>\n",
              "      <th>A</th>\n",
              "      <th>2020-03-12</th>\n",
              "      <td>0.579866</td>\n",
              "      <td>3.310334</td>\n",
              "      <td>0.224649</td>\n",
              "      <td>0.544473</td>\n",
              "      <td>0.135528</td>\n",
              "      <td>0.077981</td>\n",
              "      <td>0.148730</td>\n",
              "      <td>2.100698</td>\n",
              "      <td>-0.611647</td>\n",
              "      <td>-2.739881</td>\n",
              "      <td>0.182586</td>\n",
              "      <td>-0.404883</td>\n",
              "      <td>0.483909</td>\n",
              "      <td>0.084398</td>\n",
              "      <td>0.005387</td>\n",
              "      <td>0.097619</td>\n",
              "      <td>0.009007</td>\n",
              "      <td>0.032434</td>\n",
              "      <td>0.041611</td>\n",
              "      <td>2.059564e+10</td>\n",
              "      <td>4.307811</td>\n",
              "      <td>30.831804</td>\n",
              "      <td>24.032258</td>\n",
              "      <td>1961.490000</td>\n",
              "      <td>-31.076039</td>\n",
              "      <td>4.289419</td>\n",
              "    </tr>\n",
              "    <tr>\n",
              "      <th>AA</th>\n",
              "      <th>2020-03-12</th>\n",
              "      <td>NaN</td>\n",
              "      <td>1.359718</td>\n",
              "      <td>0.096768</td>\n",
              "      <td>0.234638</td>\n",
              "      <td>0.017780</td>\n",
              "      <td>NaN</td>\n",
              "      <td>NaN</td>\n",
              "      <td>NaN</td>\n",
              "      <td>-2.391647</td>\n",
              "      <td>-0.325694</td>\n",
              "      <td>NaN</td>\n",
              "      <td>0.472421</td>\n",
              "      <td>1.277514</td>\n",
              "      <td>NaN</td>\n",
              "      <td>0.028640</td>\n",
              "      <td>0.152322</td>\n",
              "      <td>NaN</td>\n",
              "      <td>0.156405</td>\n",
              "      <td>0.305765</td>\n",
              "      <td>1.419390e+09</td>\n",
              "      <td>0.200027</td>\n",
              "      <td>6.393649</td>\n",
              "      <td>3.270484</td>\n",
              "      <td>-0.262340</td>\n",
              "      <td>-0.203603</td>\n",
              "      <td>0.113302</td>\n",
              "    </tr>\n",
              "    <tr>\n",
              "      <th>AAC</th>\n",
              "      <th>2019-11-04</th>\n",
              "      <td>NaN</td>\n",
              "      <td>NaN</td>\n",
              "      <td>NaN</td>\n",
              "      <td>NaN</td>\n",
              "      <td>NaN</td>\n",
              "      <td>NaN</td>\n",
              "      <td>NaN</td>\n",
              "      <td>NaN</td>\n",
              "      <td>NaN</td>\n",
              "      <td>NaN</td>\n",
              "      <td>NaN</td>\n",
              "      <td>NaN</td>\n",
              "      <td>NaN</td>\n",
              "      <td>NaN</td>\n",
              "      <td>NaN</td>\n",
              "      <td>NaN</td>\n",
              "      <td>NaN</td>\n",
              "      <td>NaN</td>\n",
              "      <td>NaN</td>\n",
              "      <td>1.034256e+07</td>\n",
              "      <td>NaN</td>\n",
              "      <td>NaN</td>\n",
              "      <td>NaN</td>\n",
              "      <td>NaN</td>\n",
              "      <td>NaN</td>\n",
              "      <td>NaN</td>\n",
              "    </tr>\n",
              "    <tr>\n",
              "      <th>AAL</th>\n",
              "      <th>2020-03-12</th>\n",
              "      <td>0.833493</td>\n",
              "      <td>0.536404</td>\n",
              "      <td>0.439415</td>\n",
              "      <td>0.284573</td>\n",
              "      <td>0.038584</td>\n",
              "      <td>0.032088</td>\n",
              "      <td>-0.651628</td>\n",
              "      <td>-0.273543</td>\n",
              "      <td>-0.325527</td>\n",
              "      <td>0.064584</td>\n",
              "      <td>-3.274267</td>\n",
              "      <td>-0.382780</td>\n",
              "      <td>-0.595406</td>\n",
              "      <td>0.052873</td>\n",
              "      <td>-0.039640</td>\n",
              "      <td>0.057423</td>\n",
              "      <td>0.030656</td>\n",
              "      <td>0.265921</td>\n",
              "      <td>0.072488</td>\n",
              "      <td>6.263127e+09</td>\n",
              "      <td>-13.199425</td>\n",
              "      <td>3.760509</td>\n",
              "      <td>13.795434</td>\n",
              "      <td>-0.129764</td>\n",
              "      <td>-0.124696</td>\n",
              "      <td>0.144398</td>\n",
              "    </tr>\n",
              "    <tr>\n",
              "      <th>AAME</th>\n",
              "      <th>2020-03-12</th>\n",
              "      <td>NaN</td>\n",
              "      <td>NaN</td>\n",
              "      <td>NaN</td>\n",
              "      <td>NaN</td>\n",
              "      <td>NaN</td>\n",
              "      <td>NaN</td>\n",
              "      <td>NaN</td>\n",
              "      <td>NaN</td>\n",
              "      <td>NaN</td>\n",
              "      <td>NaN</td>\n",
              "      <td>NaN</td>\n",
              "      <td>NaN</td>\n",
              "      <td>NaN</td>\n",
              "      <td>NaN</td>\n",
              "      <td>NaN</td>\n",
              "      <td>NaN</td>\n",
              "      <td>NaN</td>\n",
              "      <td>NaN</td>\n",
              "      <td>NaN</td>\n",
              "      <td>NaN</td>\n",
              "      <td>NaN</td>\n",
              "      <td>NaN</td>\n",
              "      <td>NaN</td>\n",
              "      <td>NaN</td>\n",
              "      <td>NaN</td>\n",
              "      <td>NaN</td>\n",
              "    </tr>\n",
              "  </tbody>\n",
              "</table>\n",
              "</div>"
            ],
            "text/plain": [
              "                   Asset Turnover  Current Ratio  ...   P/NetNet   P/Sales\n",
              "Ticker Date                                       ...                     \n",
              "A      2020-03-12        0.579866       3.310334  ... -31.076039  4.289419\n",
              "AA     2020-03-12             NaN       1.359718  ...  -0.203603  0.113302\n",
              "AAC    2019-11-04             NaN            NaN  ...        NaN       NaN\n",
              "AAL    2020-03-12        0.833493       0.536404  ...  -0.124696  0.144398\n",
              "AAME   2020-03-12             NaN            NaN  ...        NaN       NaN\n",
              "\n",
              "[5 rows x 26 columns]"
            ]
          },
          "metadata": {
            "tags": []
          },
          "execution_count": 26
        }
      ]
    },
    {
      "cell_type": "markdown",
      "metadata": {
        "id": "A3Hlr6qIg3Gn",
        "colab_type": "text"
      },
      "source": [
        "## Screener for Net-Net Stocks\n",
        "\n",
        "This is an old investment strategy used by Ben Graham who was the teacher of Warren Buffett, who also used the strategy when he started investing. The idea is to buy stocks that are cheaper than a conservative estimate of their liquidation value. In normal market conditions, few companies have stocks that trade at such low prices, and there may be very good reasons why the stocks are so cheap. But during market panics, it is sometimes possible to buy decent stocks at such low prices.\n",
        "\n",
        "The Net-Net formula is:\n",
        "\n",
        "$$\n",
        "    NetNet = Cash\\ \\&\\ Equiv + 0.75 \\cdot Receivables \\\\\n",
        "    + 0.5 \\cdot Inventories - Total\\ Liabilities\n",
        "$$\n",
        "\n",
        "This means P/NetNet ratios between 0 and 1 indicate the stocks are trading at a discount to their estimated liquidation values. The lower the P/NetNet ratio, the cheaper the stock is.\n",
        "\n",
        "We create the stock-screener for Net-Net stocks, by making a boolean mask for the rows in the DataFrame with signals that meet the criteria: P/NetNet > 0 and P/NetNet < 1"
      ]
    },
    {
      "cell_type": "code",
      "metadata": {
        "id": "U5Vz-k9pg3Gn",
        "colab_type": "code",
        "colab": {}
      },
      "source": [
        "mask = (df_signals[P_NETNET] > 0) & (df_signals[P_NETNET] < 1)"
      ],
      "execution_count": 0,
      "outputs": []
    },
    {
      "cell_type": "markdown",
      "metadata": {
        "id": "rqN1ynhMg3Gp",
        "colab_type": "text"
      },
      "source": [
        "Rows that satisfy the screener-condition have a value of `True` and rows that do not meet the condition have a value of `False`."
      ]
    },
    {
      "cell_type": "code",
      "metadata": {
        "id": "BSyFYIq4g3Gq",
        "colab_type": "code",
        "colab": {
          "base_uri": "https://localhost:8080/",
          "height": 136
        },
        "outputId": "40ebba3a-8680-4ae2-bce2-3e9a44d68f44"
      },
      "source": [
        "mask.head()"
      ],
      "execution_count": 28,
      "outputs": [
        {
          "output_type": "execute_result",
          "data": {
            "text/plain": [
              "Ticker  Date      \n",
              "A       2020-03-12    False\n",
              "AA      2020-03-12    False\n",
              "AAC     2019-11-04    False\n",
              "AAL     2020-03-12    False\n",
              "AAME    2020-03-12    False\n",
              "Name: P/NetNet, dtype: bool"
            ]
          },
          "metadata": {
            "tags": []
          },
          "execution_count": 28
        }
      ]
    },
    {
      "cell_type": "markdown",
      "metadata": {
        "id": "RJqeW3tzg3Gs",
        "colab_type": "text"
      },
      "source": [
        "We can then use the boolean mask to select matching rows in the signal DataFrame, and show the P/NetNet signal:"
      ]
    },
    {
      "cell_type": "code",
      "metadata": {
        "id": "M5QJ0-UCg3Gs",
        "colab_type": "code",
        "colab": {
          "base_uri": "https://localhost:8080/",
          "height": 765
        },
        "outputId": "815dfd91-cfff-46e7-9e24-39b4ad22c855"
      },
      "source": [
        "df_signals.loc[mask, P_NETNET]"
      ],
      "execution_count": 29,
      "outputs": [
        {
          "output_type": "execute_result",
          "data": {
            "text/plain": [
              "Ticker  Date      \n",
              "ALPN    2020-03-12    0.982162\n",
              "ALRN    2020-03-12    0.524097\n",
              "AMDA    2020-03-12    0.062867\n",
              "AVGR    2020-03-12    0.083448\n",
              "BLCM    2020-03-12    0.584791\n",
              "CGA     2020-03-12    0.034622\n",
              "CLBS    2020-03-12    0.543417\n",
              "CLRB    2020-03-12    0.434121\n",
              "CRVS    2020-03-12    0.636823\n",
              "CYCC    2020-03-12    0.448079\n",
              "CYIG    2020-03-11    0.086013\n",
              "EFOI    2020-03-12    0.847310\n",
              "EVLO    2020-03-12    0.755857\n",
              "FNJN    2020-03-12    0.860965\n",
              "FPRX    2020-03-12    0.388850\n",
              "GLYC    2020-03-12    0.541346\n",
              "GTXI    2020-03-12    0.655415\n",
              "HTGM    2020-03-12    0.758397\n",
              "KKR     2020-03-12    0.534378\n",
              "KOPN    2020-03-12    0.607149\n",
              "MN      2020-03-12    0.572235\n",
              "NHTC    2020-03-12    0.501239\n",
              "NLNK    2020-03-12    0.407558\n",
              "NSPR    2020-03-12    0.036377\n",
              "OMED    2020-02-03    0.800006\n",
              "ONVO    2020-03-12    0.789187\n",
              "RAIL    2020-03-12    0.887752\n",
              "RKDA    2020-03-12    0.443056\n",
              "SIGN    2020-03-12    0.323190\n",
              "SINO    2020-03-12    0.770997\n",
              "SOHU    2020-03-12    0.451337\n",
              "SPRT    2020-03-12    0.450960\n",
              "SRRA    2020-03-12    0.175574\n",
              "SURF    2020-03-12    0.506430\n",
              "TMED    2020-03-11    0.954195\n",
              "TOCA    2020-03-12    0.631395\n",
              "TROV    2020-03-12    0.298698\n",
              "UMRX    2020-03-12    0.156311\n",
              "VKTX    2020-03-12    0.793052\n",
              "VLRX    2020-03-12    0.031568\n",
              "WSTL    2020-03-12    0.410851\n",
              "ZVO     2020-03-12    0.772217\n",
              "Name: P/NetNet, dtype: float64"
            ]
          },
          "metadata": {
            "tags": []
          },
          "execution_count": 29
        }
      ]
    },
    {
      "cell_type": "markdown",
      "metadata": {
        "id": "QBAzXVchg3Gv",
        "colab_type": "text"
      },
      "source": [
        "Note that some of the dates are not recent, so we can remove all rows with dates that are older than e.g. 30 days, by creating another boolean mask."
      ]
    },
    {
      "cell_type": "code",
      "metadata": {
        "id": "SHKav5i0g3Gv",
        "colab_type": "code",
        "colab": {
          "base_uri": "https://localhost:8080/",
          "height": 136
        },
        "outputId": "4f6a1018-4c77-4ef7-8e14-f2aa544d7ab0"
      },
      "source": [
        "# Oldest date that is allowed for a row.\n",
        "date_limit = datetime.now() - timedelta(days=30)\n",
        "\n",
        "# Load the latest share-prices from the data-hub.\n",
        "df_prices_latest = hub.load_shareprices(variant='latest')\n",
        "\n",
        "# Boolean mask for the tickers that satisfy this condition.\n",
        "mask_date_limit = (df_prices_latest.reset_index(DATE)[DATE] > date_limit)\n",
        "\n",
        "# Show the result.\n",
        "mask_date_limit.head()"
      ],
      "execution_count": 30,
      "outputs": [
        {
          "output_type": "execute_result",
          "data": {
            "text/plain": [
              "Ticker\n",
              "A        True\n",
              "AA       True\n",
              "AAC     False\n",
              "AAL      True\n",
              "AAME     True\n",
              "Name: Date, dtype: bool"
            ]
          },
          "metadata": {
            "tags": []
          },
          "execution_count": 30
        }
      ]
    },
    {
      "cell_type": "markdown",
      "metadata": {
        "id": "aEWLqalLg3Gx",
        "colab_type": "text"
      },
      "source": [
        "We can then combine the screener-mask and the date-mask:"
      ]
    },
    {
      "cell_type": "code",
      "metadata": {
        "id": "n5_ZZF6Vg3Gy",
        "colab_type": "code",
        "colab": {}
      },
      "source": [
        "mask &= mask_date_limit"
      ],
      "execution_count": 0,
      "outputs": []
    },
    {
      "cell_type": "markdown",
      "metadata": {
        "id": "KuOzjLAng3G0",
        "colab_type": "text"
      },
      "source": [
        "And then we can show the recent stock-prices that are trading at Net-Net discounts:"
      ]
    },
    {
      "cell_type": "code",
      "metadata": {
        "id": "o1vTOIR-g3G1",
        "colab_type": "code",
        "colab": {
          "base_uri": "https://localhost:8080/",
          "height": 748
        },
        "outputId": "ee055d7a-982a-4904-fe3c-b26b9d5ac5e9"
      },
      "source": [
        "df_signals.loc[mask, P_NETNET]"
      ],
      "execution_count": 32,
      "outputs": [
        {
          "output_type": "execute_result",
          "data": {
            "text/plain": [
              "Ticker  Date      \n",
              "ALPN    2020-03-12    0.982162\n",
              "ALRN    2020-03-12    0.524097\n",
              "AMDA    2020-03-12    0.062867\n",
              "AVGR    2020-03-12    0.083448\n",
              "BLCM    2020-03-12    0.584791\n",
              "CGA     2020-03-12    0.034622\n",
              "CLBS    2020-03-12    0.543417\n",
              "CLRB    2020-03-12    0.434121\n",
              "CRVS    2020-03-12    0.636823\n",
              "CYCC    2020-03-12    0.448079\n",
              "CYIG    2020-03-11    0.086013\n",
              "EFOI    2020-03-12    0.847310\n",
              "EVLO    2020-03-12    0.755857\n",
              "FNJN    2020-03-12    0.860965\n",
              "FPRX    2020-03-12    0.388850\n",
              "GLYC    2020-03-12    0.541346\n",
              "GTXI    2020-03-12    0.655415\n",
              "HTGM    2020-03-12    0.758397\n",
              "KKR     2020-03-12    0.534378\n",
              "KOPN    2020-03-12    0.607149\n",
              "MN      2020-03-12    0.572235\n",
              "NHTC    2020-03-12    0.501239\n",
              "NLNK    2020-03-12    0.407558\n",
              "NSPR    2020-03-12    0.036377\n",
              "ONVO    2020-03-12    0.789187\n",
              "RAIL    2020-03-12    0.887752\n",
              "RKDA    2020-03-12    0.443056\n",
              "SIGN    2020-03-12    0.323190\n",
              "SINO    2020-03-12    0.770997\n",
              "SOHU    2020-03-12    0.451337\n",
              "SPRT    2020-03-12    0.450960\n",
              "SRRA    2020-03-12    0.175574\n",
              "SURF    2020-03-12    0.506430\n",
              "TMED    2020-03-11    0.954195\n",
              "TOCA    2020-03-12    0.631395\n",
              "TROV    2020-03-12    0.298698\n",
              "UMRX    2020-03-12    0.156311\n",
              "VKTX    2020-03-12    0.793052\n",
              "VLRX    2020-03-12    0.031568\n",
              "WSTL    2020-03-12    0.410851\n",
              "ZVO     2020-03-12    0.772217\n",
              "Name: P/NetNet, dtype: float64"
            ]
          },
          "metadata": {
            "tags": []
          },
          "execution_count": 32
        }
      ]
    },
    {
      "cell_type": "markdown",
      "metadata": {
        "id": "HGawEKXog3G3",
        "colab_type": "text"
      },
      "source": [
        "## Screener for Many Criteria\n",
        "\n",
        "It is very easy to combine many criteria in the stock-screener. Let use start with the condition that the Market Capitalization must be more then USD 1 billion:"
      ]
    },
    {
      "cell_type": "code",
      "metadata": {
        "id": "Sl5-kL34g3G4",
        "colab_type": "code",
        "colab": {}
      },
      "source": [
        "mask = (df_signals[MARKET_CAP] > 1e9)"
      ],
      "execution_count": 0,
      "outputs": []
    },
    {
      "cell_type": "markdown",
      "metadata": {
        "id": "SAhb0oLtg3G6",
        "colab_type": "text"
      },
      "source": [
        "Then let us add criteria for the Current Ratio and Debt Ratio calculated from the latest financial reports, as well as the quarterly sales-growth year-over-year.\n",
        "\n",
        "We combine all these criteria simply by generating the corresponding boolean masks, and doing the logical-and with the previous mask, thereby accumulating multiple criteria."
      ]
    },
    {
      "cell_type": "code",
      "metadata": {
        "id": "6L_3XS6_g3G6",
        "colab_type": "code",
        "colab": {}
      },
      "source": [
        "mask &= (df_signals[CURRENT_RATIO] > 2)\n",
        "mask &= (df_signals[DEBT_RATIO] < 0.5)\n",
        "mask &= (df_signals[SALES_GROWTH_YOY] > 0.1)"
      ],
      "execution_count": 0,
      "outputs": []
    },
    {
      "cell_type": "markdown",
      "metadata": {
        "id": "f7YjYw_Sg3G9",
        "colab_type": "text"
      },
      "source": [
        "We can also create screener-criteria using the 2-year average signals, e.g. the P/E and P/FCF ratios which use 2-year average Earnings and FCF. We can combine screener-criteria from `df_signals` and `df_signals_2y` because their indices are compatible."
      ]
    },
    {
      "cell_type": "code",
      "metadata": {
        "id": "dzdN5rsBg3G9",
        "colab_type": "code",
        "colab": {}
      },
      "source": [
        "mask &= (df_signals_2y[PE] < 20)\n",
        "mask &= (df_signals_2y[PFCF] < 20)\n",
        "mask &= (df_signals_2y[ROA] > 0.03)\n",
        "mask &= (df_signals_2y[ROE] > 0.15)\n",
        "mask &= (df_signals_2y[NET_PROFIT_MARGIN] > 0.0)\n",
        "mask &= (df_signals_2y[SALES_GROWTH] > 0.1)"
      ],
      "execution_count": 0,
      "outputs": []
    },
    {
      "cell_type": "markdown",
      "metadata": {
        "id": "WN4e9scCg3HA",
        "colab_type": "text"
      },
      "source": [
        "Finally we can ensure that we only get the stocks with recent share-prices:"
      ]
    },
    {
      "cell_type": "code",
      "metadata": {
        "id": "uSaYdM4Ng3HB",
        "colab_type": "code",
        "colab": {}
      },
      "source": [
        "mask &= mask_date_limit"
      ],
      "execution_count": 0,
      "outputs": []
    },
    {
      "cell_type": "markdown",
      "metadata": {
        "id": "m9P8fHEhg3HC",
        "colab_type": "text"
      },
      "source": [
        "These are the stocks and signals matching all these criteria:"
      ]
    },
    {
      "cell_type": "code",
      "metadata": {
        "id": "nP7P0oxGg3HD",
        "colab_type": "code",
        "colab": {
          "base_uri": "https://localhost:8080/",
          "height": 518
        },
        "outputId": "c8ce268f-360e-48fb-adad-fc2e3c3c1c09"
      },
      "source": [
        "df_signals[mask]"
      ],
      "execution_count": 37,
      "outputs": [
        {
          "output_type": "execute_result",
          "data": {
            "text/html": [
              "<div>\n",
              "<style scoped>\n",
              "    .dataframe tbody tr th:only-of-type {\n",
              "        vertical-align: middle;\n",
              "    }\n",
              "\n",
              "    .dataframe tbody tr th {\n",
              "        vertical-align: top;\n",
              "    }\n",
              "\n",
              "    .dataframe thead th {\n",
              "        text-align: right;\n",
              "    }\n",
              "</style>\n",
              "<table border=\"1\" class=\"dataframe\">\n",
              "  <thead>\n",
              "    <tr style=\"text-align: right;\">\n",
              "      <th></th>\n",
              "      <th></th>\n",
              "      <th>Asset Turnover</th>\n",
              "      <th>Current Ratio</th>\n",
              "      <th>Debt Ratio</th>\n",
              "      <th>Gross Profit Margin</th>\n",
              "      <th>Net Profit Margin</th>\n",
              "      <th>Return on Assets</th>\n",
              "      <th>Return on Equity</th>\n",
              "      <th>Earnings Growth</th>\n",
              "      <th>Earnings Growth QOQ</th>\n",
              "      <th>Earnings Growth YOY</th>\n",
              "      <th>FCF Growth</th>\n",
              "      <th>FCF Growth QOQ</th>\n",
              "      <th>FCF Growth YOY</th>\n",
              "      <th>Sales Growth</th>\n",
              "      <th>Sales Growth QOQ</th>\n",
              "      <th>Sales Growth YOY</th>\n",
              "      <th>Dividend Yield</th>\n",
              "      <th>Earnings Yield</th>\n",
              "      <th>FCF Yield</th>\n",
              "      <th>Market-Cap</th>\n",
              "      <th>P/Book</th>\n",
              "      <th>P/E</th>\n",
              "      <th>P/FCF</th>\n",
              "      <th>P/NCAV</th>\n",
              "      <th>P/NetNet</th>\n",
              "      <th>P/Sales</th>\n",
              "    </tr>\n",
              "    <tr>\n",
              "      <th>Ticker</th>\n",
              "      <th>Date</th>\n",
              "      <th></th>\n",
              "      <th></th>\n",
              "      <th></th>\n",
              "      <th></th>\n",
              "      <th></th>\n",
              "      <th></th>\n",
              "      <th></th>\n",
              "      <th></th>\n",
              "      <th></th>\n",
              "      <th></th>\n",
              "      <th></th>\n",
              "      <th></th>\n",
              "      <th></th>\n",
              "      <th></th>\n",
              "      <th></th>\n",
              "      <th></th>\n",
              "      <th></th>\n",
              "      <th></th>\n",
              "      <th></th>\n",
              "      <th></th>\n",
              "      <th></th>\n",
              "      <th></th>\n",
              "      <th></th>\n",
              "      <th></th>\n",
              "      <th></th>\n",
              "      <th></th>\n",
              "    </tr>\n",
              "  </thead>\n",
              "  <tbody>\n",
              "    <tr>\n",
              "      <th>AIT</th>\n",
              "      <th>2020-03-12</th>\n",
              "      <td>2.439706</td>\n",
              "      <td>2.747120</td>\n",
              "      <td>0.422532</td>\n",
              "      <td>0.290945</td>\n",
              "      <td>0.047992</td>\n",
              "      <td>0.117086</td>\n",
              "      <td>0.211237</td>\n",
              "      <td>0.118838</td>\n",
              "      <td>-0.208856</td>\n",
              "      <td>0.250953</td>\n",
              "      <td>0.454933</td>\n",
              "      <td>4.749569</td>\n",
              "      <td>6.215780</td>\n",
              "      <td>0.266285</td>\n",
              "      <td>-0.028313</td>\n",
              "      <td>0.259074</td>\n",
              "      <td>0.028004</td>\n",
              "      <td>0.099000</td>\n",
              "      <td>0.104324</td>\n",
              "      <td>1.662709e+09</td>\n",
              "      <td>1.868391</td>\n",
              "      <td>10.100960</td>\n",
              "      <td>9.585547</td>\n",
              "      <td>-5.223881</td>\n",
              "      <td>-2.331075</td>\n",
              "      <td>0.484763</td>\n",
              "    </tr>\n",
              "    <tr>\n",
              "      <th>CORT</th>\n",
              "      <th>2020-03-12</th>\n",
              "      <td>1.139251</td>\n",
              "      <td>6.657296</td>\n",
              "      <td>0.297553</td>\n",
              "      <td>0.979244</td>\n",
              "      <td>0.300143</td>\n",
              "      <td>0.341938</td>\n",
              "      <td>0.394883</td>\n",
              "      <td>-0.415979</td>\n",
              "      <td>0.240097</td>\n",
              "      <td>-0.776182</td>\n",
              "      <td>0.906388</td>\n",
              "      <td>-0.518534</td>\n",
              "      <td>-0.138730</td>\n",
              "      <td>0.578175</td>\n",
              "      <td>0.037024</td>\n",
              "      <td>0.254336</td>\n",
              "      <td>NaN</td>\n",
              "      <td>0.056798</td>\n",
              "      <td>0.086893</td>\n",
              "      <td>1.327690e+09</td>\n",
              "      <td>4.812529</td>\n",
              "      <td>17.606289</td>\n",
              "      <td>11.508406</td>\n",
              "      <td>6.605161</td>\n",
              "      <td>7.118792</td>\n",
              "      <td>5.284402</td>\n",
              "    </tr>\n",
              "    <tr>\n",
              "      <th>EXEL</th>\n",
              "      <th>2020-03-12</th>\n",
              "      <td>1.302966</td>\n",
              "      <td>8.504779</td>\n",
              "      <td>0.347970</td>\n",
              "      <td>0.969141</td>\n",
              "      <td>0.808209</td>\n",
              "      <td>1.053069</td>\n",
              "      <td>2.421630</td>\n",
              "      <td>3.474379</td>\n",
              "      <td>1.843631</td>\n",
              "      <td>8.355634</td>\n",
              "      <td>1.646240</td>\n",
              "      <td>-0.320384</td>\n",
              "      <td>1.839984</td>\n",
              "      <td>0.887004</td>\n",
              "      <td>0.020311</td>\n",
              "      <td>0.915309</td>\n",
              "      <td>NaN</td>\n",
              "      <td>0.144661</td>\n",
              "      <td>0.080233</td>\n",
              "      <td>4.770246e+09</td>\n",
              "      <td>3.705180</td>\n",
              "      <td>6.912698</td>\n",
              "      <td>12.463704</td>\n",
              "      <td>6.258662</td>\n",
              "      <td>6.958801</td>\n",
              "      <td>5.586906</td>\n",
              "    </tr>\n",
              "    <tr>\n",
              "      <th>KLAC</th>\n",
              "      <th>2020-03-12</th>\n",
              "      <td>0.796050</td>\n",
              "      <td>3.025564</td>\n",
              "      <td>0.399333</td>\n",
              "      <td>0.643106</td>\n",
              "      <td>0.330051</td>\n",
              "      <td>0.262737</td>\n",
              "      <td>1.159157</td>\n",
              "      <td>1.164564</td>\n",
              "      <td>-0.067797</td>\n",
              "      <td>-3.747936</td>\n",
              "      <td>0.315473</td>\n",
              "      <td>-0.193503</td>\n",
              "      <td>2.130774</td>\n",
              "      <td>0.133390</td>\n",
              "      <td>0.024366</td>\n",
              "      <td>0.147646</td>\n",
              "      <td>0.022838</td>\n",
              "      <td>0.072669</td>\n",
              "      <td>0.076817</td>\n",
              "      <td>1.955021e+10</td>\n",
              "      <td>12.237066</td>\n",
              "      <td>13.761044</td>\n",
              "      <td>13.017962</td>\n",
              "      <td>40.912936</td>\n",
              "      <td>-61.669460</td>\n",
              "      <td>4.541853</td>\n",
              "    </tr>\n",
              "    <tr>\n",
              "      <th>NUE</th>\n",
              "      <th>2020-03-12</th>\n",
              "      <td>1.582405</td>\n",
              "      <td>3.077456</td>\n",
              "      <td>0.239453</td>\n",
              "      <td>0.171355</td>\n",
              "      <td>0.094177</td>\n",
              "      <td>0.149026</td>\n",
              "      <td>0.259859</td>\n",
              "      <td>0.790239</td>\n",
              "      <td>-0.044154</td>\n",
              "      <td>0.684799</td>\n",
              "      <td>1.297702</td>\n",
              "      <td>-0.822267</td>\n",
              "      <td>-0.000694</td>\n",
              "      <td>0.237744</td>\n",
              "      <td>-0.066198</td>\n",
              "      <td>0.236347</td>\n",
              "      <td>0.048236</td>\n",
              "      <td>0.234608</td>\n",
              "      <td>0.143403</td>\n",
              "      <td>1.006261e+10</td>\n",
              "      <td>0.986340</td>\n",
              "      <td>4.262431</td>\n",
              "      <td>6.973346</td>\n",
              "      <td>10.965687</td>\n",
              "      <td>-4.650416</td>\n",
              "      <td>0.401424</td>\n",
              "    </tr>\n",
              "    <tr>\n",
              "      <th>PRGO</th>\n",
              "      <th>2020-03-12</th>\n",
              "      <td>0.899451</td>\n",
              "      <td>3.183860</td>\n",
              "      <td>0.360024</td>\n",
              "      <td>0.364800</td>\n",
              "      <td>0.120889</td>\n",
              "      <td>0.108734</td>\n",
              "      <td>0.227802</td>\n",
              "      <td>0.025325</td>\n",
              "      <td>-0.059288</td>\n",
              "      <td>0.054924</td>\n",
              "      <td>0.245239</td>\n",
              "      <td>-0.527664</td>\n",
              "      <td>1.089701</td>\n",
              "      <td>0.150945</td>\n",
              "      <td>-0.034962</td>\n",
              "      <td>0.212523</td>\n",
              "      <td>0.008839</td>\n",
              "      <td>0.116393</td>\n",
              "      <td>0.125467</td>\n",
              "      <td>3.846436e+09</td>\n",
              "      <td>1.557325</td>\n",
              "      <td>8.591548</td>\n",
              "      <td>7.970236</td>\n",
              "      <td>-5.726420</td>\n",
              "      <td>-2.881981</td>\n",
              "      <td>1.038623</td>\n",
              "    </tr>\n",
              "    <tr>\n",
              "      <th>STLD</th>\n",
              "      <th>2020-03-12</th>\n",
              "      <td>1.724373</td>\n",
              "      <td>3.956933</td>\n",
              "      <td>0.308523</td>\n",
              "      <td>0.196485</td>\n",
              "      <td>0.106445</td>\n",
              "      <td>0.183551</td>\n",
              "      <td>0.380599</td>\n",
              "      <td>0.548315</td>\n",
              "      <td>-0.322237</td>\n",
              "      <td>-0.113965</td>\n",
              "      <td>1.047188</td>\n",
              "      <td>0.224077</td>\n",
              "      <td>1.763368</td>\n",
              "      <td>0.239343</td>\n",
              "      <td>-0.099163</td>\n",
              "      <td>0.242850</td>\n",
              "      <td>0.038324</td>\n",
              "      <td>0.285507</td>\n",
              "      <td>0.266835</td>\n",
              "      <td>4.407517e+09</td>\n",
              "      <td>1.133845</td>\n",
              "      <td>3.502535</td>\n",
              "      <td>3.747637</td>\n",
              "      <td>20.374703</td>\n",
              "      <td>-4.199307</td>\n",
              "      <td>0.372828</td>\n",
              "    </tr>\n",
              "    <tr>\n",
              "      <th>XEC</th>\n",
              "      <th>2020-03-12</th>\n",
              "      <td>0.463848</td>\n",
              "      <td>2.009489</td>\n",
              "      <td>0.095042</td>\n",
              "      <td>0.770853</td>\n",
              "      <td>0.338540</td>\n",
              "      <td>0.157031</td>\n",
              "      <td>0.308320</td>\n",
              "      <td>0.601870</td>\n",
              "      <td>1.131267</td>\n",
              "      <td>0.809898</td>\n",
              "      <td>-5.588082</td>\n",
              "      <td>-1.024098</td>\n",
              "      <td>-1.876748</td>\n",
              "      <td>0.219350</td>\n",
              "      <td>0.055171</td>\n",
              "      <td>0.132829</td>\n",
              "      <td>0.038866</td>\n",
              "      <td>0.557103</td>\n",
              "      <td>0.400201</td>\n",
              "      <td>1.421373e+09</td>\n",
              "      <td>0.426866</td>\n",
              "      <td>1.795001</td>\n",
              "      <td>2.498744</td>\n",
              "      <td>-1.086545</td>\n",
              "      <td>-0.746576</td>\n",
              "      <td>0.607680</td>\n",
              "    </tr>\n",
              "  </tbody>\n",
              "</table>\n",
              "</div>"
            ],
            "text/plain": [
              "                   Asset Turnover  Current Ratio  ...   P/NetNet   P/Sales\n",
              "Ticker Date                                       ...                     \n",
              "AIT    2020-03-12        2.439706       2.747120  ...  -2.331075  0.484763\n",
              "CORT   2020-03-12        1.139251       6.657296  ...   7.118792  5.284402\n",
              "EXEL   2020-03-12        1.302966       8.504779  ...   6.958801  5.586906\n",
              "KLAC   2020-03-12        0.796050       3.025564  ... -61.669460  4.541853\n",
              "NUE    2020-03-12        1.582405       3.077456  ...  -4.650416  0.401424\n",
              "PRGO   2020-03-12        0.899451       3.183860  ...  -2.881981  1.038623\n",
              "STLD   2020-03-12        1.724373       3.956933  ...  -4.199307  0.372828\n",
              "XEC    2020-03-12        0.463848       2.009489  ...  -0.746576  0.607680\n",
              "\n",
              "[8 rows x 26 columns]"
            ]
          },
          "metadata": {
            "tags": []
          },
          "execution_count": 37
        }
      ]
    },
    {
      "cell_type": "markdown",
      "metadata": {
        "id": "frLnHnWCg3HF",
        "colab_type": "text"
      },
      "source": [
        "We can also show a sub-set of all the signals and sort e.g. by the P/FCF ratios:"
      ]
    },
    {
      "cell_type": "code",
      "metadata": {
        "scrolled": true,
        "id": "K5cNmKCvg3HF",
        "colab_type": "code",
        "colab": {
          "base_uri": "https://localhost:8080/",
          "height": 328
        },
        "outputId": "5ed777dd-331d-4779-dd8b-d899f330d778"
      },
      "source": [
        "columns = [PFCF, PE, ROA, ROE, CURRENT_RATIO, DEBT_RATIO]\n",
        "df_signals.loc[mask, columns].sort_values(by=PFCF, ascending=True)"
      ],
      "execution_count": 38,
      "outputs": [
        {
          "output_type": "execute_result",
          "data": {
            "text/html": [
              "<div>\n",
              "<style scoped>\n",
              "    .dataframe tbody tr th:only-of-type {\n",
              "        vertical-align: middle;\n",
              "    }\n",
              "\n",
              "    .dataframe tbody tr th {\n",
              "        vertical-align: top;\n",
              "    }\n",
              "\n",
              "    .dataframe thead th {\n",
              "        text-align: right;\n",
              "    }\n",
              "</style>\n",
              "<table border=\"1\" class=\"dataframe\">\n",
              "  <thead>\n",
              "    <tr style=\"text-align: right;\">\n",
              "      <th></th>\n",
              "      <th></th>\n",
              "      <th>P/FCF</th>\n",
              "      <th>P/E</th>\n",
              "      <th>Return on Assets</th>\n",
              "      <th>Return on Equity</th>\n",
              "      <th>Current Ratio</th>\n",
              "      <th>Debt Ratio</th>\n",
              "    </tr>\n",
              "    <tr>\n",
              "      <th>Ticker</th>\n",
              "      <th>Date</th>\n",
              "      <th></th>\n",
              "      <th></th>\n",
              "      <th></th>\n",
              "      <th></th>\n",
              "      <th></th>\n",
              "      <th></th>\n",
              "    </tr>\n",
              "  </thead>\n",
              "  <tbody>\n",
              "    <tr>\n",
              "      <th>XEC</th>\n",
              "      <th>2020-03-12</th>\n",
              "      <td>2.498744</td>\n",
              "      <td>1.795001</td>\n",
              "      <td>0.157031</td>\n",
              "      <td>0.308320</td>\n",
              "      <td>2.009489</td>\n",
              "      <td>0.095042</td>\n",
              "    </tr>\n",
              "    <tr>\n",
              "      <th>STLD</th>\n",
              "      <th>2020-03-12</th>\n",
              "      <td>3.747637</td>\n",
              "      <td>3.502535</td>\n",
              "      <td>0.183551</td>\n",
              "      <td>0.380599</td>\n",
              "      <td>3.956933</td>\n",
              "      <td>0.308523</td>\n",
              "    </tr>\n",
              "    <tr>\n",
              "      <th>NUE</th>\n",
              "      <th>2020-03-12</th>\n",
              "      <td>6.973346</td>\n",
              "      <td>4.262431</td>\n",
              "      <td>0.149026</td>\n",
              "      <td>0.259859</td>\n",
              "      <td>3.077456</td>\n",
              "      <td>0.239453</td>\n",
              "    </tr>\n",
              "    <tr>\n",
              "      <th>PRGO</th>\n",
              "      <th>2020-03-12</th>\n",
              "      <td>7.970236</td>\n",
              "      <td>8.591548</td>\n",
              "      <td>0.108734</td>\n",
              "      <td>0.227802</td>\n",
              "      <td>3.183860</td>\n",
              "      <td>0.360024</td>\n",
              "    </tr>\n",
              "    <tr>\n",
              "      <th>AIT</th>\n",
              "      <th>2020-03-12</th>\n",
              "      <td>9.585547</td>\n",
              "      <td>10.100960</td>\n",
              "      <td>0.117086</td>\n",
              "      <td>0.211237</td>\n",
              "      <td>2.747120</td>\n",
              "      <td>0.422532</td>\n",
              "    </tr>\n",
              "    <tr>\n",
              "      <th>CORT</th>\n",
              "      <th>2020-03-12</th>\n",
              "      <td>11.508406</td>\n",
              "      <td>17.606289</td>\n",
              "      <td>0.341938</td>\n",
              "      <td>0.394883</td>\n",
              "      <td>6.657296</td>\n",
              "      <td>0.297553</td>\n",
              "    </tr>\n",
              "    <tr>\n",
              "      <th>EXEL</th>\n",
              "      <th>2020-03-12</th>\n",
              "      <td>12.463704</td>\n",
              "      <td>6.912698</td>\n",
              "      <td>1.053069</td>\n",
              "      <td>2.421630</td>\n",
              "      <td>8.504779</td>\n",
              "      <td>0.347970</td>\n",
              "    </tr>\n",
              "    <tr>\n",
              "      <th>KLAC</th>\n",
              "      <th>2020-03-12</th>\n",
              "      <td>13.017962</td>\n",
              "      <td>13.761044</td>\n",
              "      <td>0.262737</td>\n",
              "      <td>1.159157</td>\n",
              "      <td>3.025564</td>\n",
              "      <td>0.399333</td>\n",
              "    </tr>\n",
              "  </tbody>\n",
              "</table>\n",
              "</div>"
            ],
            "text/plain": [
              "                       P/FCF        P/E  ...  Current Ratio  Debt Ratio\n",
              "Ticker Date                              ...                           \n",
              "XEC    2020-03-12   2.498744   1.795001  ...       2.009489    0.095042\n",
              "STLD   2020-03-12   3.747637   3.502535  ...       3.956933    0.308523\n",
              "NUE    2020-03-12   6.973346   4.262431  ...       3.077456    0.239453\n",
              "PRGO   2020-03-12   7.970236   8.591548  ...       3.183860    0.360024\n",
              "AIT    2020-03-12   9.585547  10.100960  ...       2.747120    0.422532\n",
              "CORT   2020-03-12  11.508406  17.606289  ...       6.657296    0.297553\n",
              "EXEL   2020-03-12  12.463704   6.912698  ...       8.504779    0.347970\n",
              "KLAC   2020-03-12  13.017962  13.761044  ...       3.025564    0.399333\n",
              "\n",
              "[8 rows x 6 columns]"
            ]
          },
          "metadata": {
            "tags": []
          },
          "execution_count": 38
        }
      ]
    },
    {
      "cell_type": "markdown",
      "metadata": {
        "id": "ifvrGZUbg3HI",
        "colab_type": "text"
      },
      "source": [
        "## Handling NaN Signal-Values\n",
        "\n",
        "The signals are calculated from various financial data using mathematical formulas. If any data-item in the formula is NaN (Not-a-Number) then the result of the entire formula is also NaN, and then the screener-condition automatically evaluates to False, so the company is excluded from the results of the stock-screener.\n",
        "\n",
        "For example, the Debt Ratio (`DEBT_RATIO`) is calculated from Short Term Debt (`ST_DEBT`), Long Term Debt (`LT_DEBT`) and Total Assets (`TOTAL_ASSETS`). If just one of these numbers is NaN, then the resulting Debt Ratio is also NaN and the screener-condition for this signal will always evaluate to False, so the company is excluded from the screener's results.\n",
        "\n",
        "You might think that a solution would simply be to use `fillna(0)` on all the data-items before calculating the signals. This may work for some formulas and for some uses of the signals, but it is not a generally valid solution, as it may severely distort the signals.\n",
        "\n",
        "Consider for example the ticker AMZN, where all data for Short Term Debt is missing in all the reports, while the Long Term Debt is only missing in some reports. If you look at the data, it seems most likely that this is a data-error, and the Long Term Debt should actually be several billions of dollars. If we were to replace these missing values with zeros, then we would get very misleading Debt Ratios.\n",
        "\n",
        "In this example, AMZN had actually not reported these numbers in some of their quarterly reports. That is why the values are missing in the data."
      ]
    },
    {
      "cell_type": "code",
      "metadata": {
        "id": "Wj3OoccGg3HK",
        "colab_type": "code",
        "colab": {
          "base_uri": "https://localhost:8080/",
          "height": 576
        },
        "outputId": "1f4f7765-4c98-4273-fd97-318981c9508d"
      },
      "source": [
        "# Load the TTM Balance Sheets from the data-hub.\n",
        "df_balance_ttm = hub.load_balance(variant='ttm')\n",
        "\n",
        "# Show the relevant data.\n",
        "columns = [ST_DEBT, LT_DEBT, TOTAL_ASSETS]\n",
        "df_balance_ttm.loc['AMZN', columns]['2010':'2013']"
      ],
      "execution_count": 39,
      "outputs": [
        {
          "output_type": "execute_result",
          "data": {
            "text/html": [
              "<div>\n",
              "<style scoped>\n",
              "    .dataframe tbody tr th:only-of-type {\n",
              "        vertical-align: middle;\n",
              "    }\n",
              "\n",
              "    .dataframe tbody tr th {\n",
              "        vertical-align: top;\n",
              "    }\n",
              "\n",
              "    .dataframe thead th {\n",
              "        text-align: right;\n",
              "    }\n",
              "</style>\n",
              "<table border=\"1\" class=\"dataframe\">\n",
              "  <thead>\n",
              "    <tr style=\"text-align: right;\">\n",
              "      <th></th>\n",
              "      <th>Short Term Debt</th>\n",
              "      <th>Long Term Debt</th>\n",
              "      <th>Total Assets</th>\n",
              "    </tr>\n",
              "    <tr>\n",
              "      <th>Report Date</th>\n",
              "      <th></th>\n",
              "      <th></th>\n",
              "      <th></th>\n",
              "    </tr>\n",
              "  </thead>\n",
              "  <tbody>\n",
              "    <tr>\n",
              "      <th>2010-03-31</th>\n",
              "      <td>NaN</td>\n",
              "      <td>1.310000e+08</td>\n",
              "      <td>12042000000</td>\n",
              "    </tr>\n",
              "    <tr>\n",
              "      <th>2010-06-30</th>\n",
              "      <td>NaN</td>\n",
              "      <td>1.320000e+08</td>\n",
              "      <td>12397000000</td>\n",
              "    </tr>\n",
              "    <tr>\n",
              "      <th>2010-09-30</th>\n",
              "      <td>NaN</td>\n",
              "      <td>1.640000e+08</td>\n",
              "      <td>14162000000</td>\n",
              "    </tr>\n",
              "    <tr>\n",
              "      <th>2010-12-31</th>\n",
              "      <td>NaN</td>\n",
              "      <td>NaN</td>\n",
              "      <td>18797000000</td>\n",
              "    </tr>\n",
              "    <tr>\n",
              "      <th>2011-03-31</th>\n",
              "      <td>NaN</td>\n",
              "      <td>NaN</td>\n",
              "      <td>16882000000</td>\n",
              "    </tr>\n",
              "    <tr>\n",
              "      <th>2011-06-30</th>\n",
              "      <td>NaN</td>\n",
              "      <td>NaN</td>\n",
              "      <td>17941000000</td>\n",
              "    </tr>\n",
              "    <tr>\n",
              "      <th>2011-09-30</th>\n",
              "      <td>NaN</td>\n",
              "      <td>NaN</td>\n",
              "      <td>19054000000</td>\n",
              "    </tr>\n",
              "    <tr>\n",
              "      <th>2011-12-31</th>\n",
              "      <td>NaN</td>\n",
              "      <td>2.550000e+08</td>\n",
              "      <td>25278000000</td>\n",
              "    </tr>\n",
              "    <tr>\n",
              "      <th>2012-03-31</th>\n",
              "      <td>NaN</td>\n",
              "      <td>NaN</td>\n",
              "      <td>20339000000</td>\n",
              "    </tr>\n",
              "    <tr>\n",
              "      <th>2012-06-30</th>\n",
              "      <td>NaN</td>\n",
              "      <td>NaN</td>\n",
              "      <td>21022000000</td>\n",
              "    </tr>\n",
              "    <tr>\n",
              "      <th>2012-09-30</th>\n",
              "      <td>NaN</td>\n",
              "      <td>NaN</td>\n",
              "      <td>22834000000</td>\n",
              "    </tr>\n",
              "    <tr>\n",
              "      <th>2012-12-31</th>\n",
              "      <td>NaN</td>\n",
              "      <td>3.084000e+09</td>\n",
              "      <td>32555000000</td>\n",
              "    </tr>\n",
              "    <tr>\n",
              "      <th>2013-03-31</th>\n",
              "      <td>NaN</td>\n",
              "      <td>3.040000e+09</td>\n",
              "      <td>28377000000</td>\n",
              "    </tr>\n",
              "    <tr>\n",
              "      <th>2013-06-30</th>\n",
              "      <td>NaN</td>\n",
              "      <td>3.042000e+09</td>\n",
              "      <td>29623000000</td>\n",
              "    </tr>\n",
              "    <tr>\n",
              "      <th>2013-09-30</th>\n",
              "      <td>NaN</td>\n",
              "      <td>3.043000e+09</td>\n",
              "      <td>31861000000</td>\n",
              "    </tr>\n",
              "    <tr>\n",
              "      <th>2013-12-31</th>\n",
              "      <td>NaN</td>\n",
              "      <td>3.191000e+09</td>\n",
              "      <td>40159000000</td>\n",
              "    </tr>\n",
              "  </tbody>\n",
              "</table>\n",
              "</div>"
            ],
            "text/plain": [
              "             Short Term Debt  Long Term Debt  Total Assets\n",
              "Report Date                                               \n",
              "2010-03-31               NaN    1.310000e+08   12042000000\n",
              "2010-06-30               NaN    1.320000e+08   12397000000\n",
              "2010-09-30               NaN    1.640000e+08   14162000000\n",
              "2010-12-31               NaN             NaN   18797000000\n",
              "2011-03-31               NaN             NaN   16882000000\n",
              "2011-06-30               NaN             NaN   17941000000\n",
              "2011-09-30               NaN             NaN   19054000000\n",
              "2011-12-31               NaN    2.550000e+08   25278000000\n",
              "2012-03-31               NaN             NaN   20339000000\n",
              "2012-06-30               NaN             NaN   21022000000\n",
              "2012-09-30               NaN             NaN   22834000000\n",
              "2012-12-31               NaN    3.084000e+09   32555000000\n",
              "2013-03-31               NaN    3.040000e+09   28377000000\n",
              "2013-06-30               NaN    3.042000e+09   29623000000\n",
              "2013-09-30               NaN    3.043000e+09   31861000000\n",
              "2013-12-31               NaN    3.191000e+09   40159000000"
            ]
          },
          "metadata": {
            "tags": []
          },
          "execution_count": 39
        }
      ]
    },
    {
      "cell_type": "markdown",
      "metadata": {
        "id": "Fb_U-4ylg3HN",
        "colab_type": "text"
      },
      "source": [
        "A simple solution is to ignore signals that are NaN. For example, we could have the following criteria:"
      ]
    },
    {
      "cell_type": "code",
      "metadata": {
        "id": "-JRm40YJg3HN",
        "colab_type": "code",
        "colab": {}
      },
      "source": [
        "# Start the screener with a market-cap condition.\n",
        "mask = (df_signals[MARKET_CAP] > 1e9)\n",
        "\n",
        "# Ensure share-prices are recent.\n",
        "mask &= mask_date_limit\n",
        "\n",
        "# Screener criteria where NaN signals are ignored.\n",
        "mask &= ((df_signals[CURRENT_RATIO] > 2) | (df_signals[CURRENT_RATIO].isnull()))\n",
        "mask &= ((df_signals[DEBT_RATIO] < 0.5) | (df_signals[DEBT_RATIO].isnull()))\n",
        "mask &= ((df_signals[PE] < 20) | (df_signals[PE].isnull()))\n",
        "mask &= ((df_signals[PFCF] < 20) | (df_signals[PFCF].isnull()))\n",
        "mask &= ((df_signals[ROA] > 0.03) | (df_signals[ROA].isnull()))\n",
        "mask &= ((df_signals[ROE] > 0.15) | (df_signals[ROE].isnull()))\n",
        "mask &= ((df_signals[NET_PROFIT_MARGIN] > 0.0) | (df_signals[NET_PROFIT_MARGIN].isnull()))\n",
        "mask &= ((df_signals[SALES_GROWTH] > 0.1) | (df_signals[SALES_GROWTH].isnull()))"
      ],
      "execution_count": 0,
      "outputs": []
    },
    {
      "cell_type": "markdown",
      "metadata": {
        "id": "nmsZzUl8g3HP",
        "colab_type": "text"
      },
      "source": [
        "The following shows the stocks whose signals match these criteria. You can see that some of the signals are NaN, but the stocks are still included in the results, because the screener just ignores NaN values:"
      ]
    },
    {
      "cell_type": "code",
      "metadata": {
        "id": "4ToJEqgGg3HP",
        "colab_type": "code",
        "colab": {
          "base_uri": "https://localhost:8080/",
          "height": 1000
        },
        "outputId": "3467b89d-b7f6-4157-823c-87e524b7085e"
      },
      "source": [
        "columns = [PFCF, PE, ROA, ROE, CURRENT_RATIO, DEBT_RATIO]\n",
        "df_signals.loc[mask, columns].sort_values(by=PE, ascending=True)"
      ],
      "execution_count": 41,
      "outputs": [
        {
          "output_type": "execute_result",
          "data": {
            "text/html": [
              "<div>\n",
              "<style scoped>\n",
              "    .dataframe tbody tr th:only-of-type {\n",
              "        vertical-align: middle;\n",
              "    }\n",
              "\n",
              "    .dataframe tbody tr th {\n",
              "        vertical-align: top;\n",
              "    }\n",
              "\n",
              "    .dataframe thead th {\n",
              "        text-align: right;\n",
              "    }\n",
              "</style>\n",
              "<table border=\"1\" class=\"dataframe\">\n",
              "  <thead>\n",
              "    <tr style=\"text-align: right;\">\n",
              "      <th></th>\n",
              "      <th></th>\n",
              "      <th>P/FCF</th>\n",
              "      <th>P/E</th>\n",
              "      <th>Return on Assets</th>\n",
              "      <th>Return on Equity</th>\n",
              "      <th>Current Ratio</th>\n",
              "      <th>Debt Ratio</th>\n",
              "    </tr>\n",
              "    <tr>\n",
              "      <th>Ticker</th>\n",
              "      <th>Date</th>\n",
              "      <th></th>\n",
              "      <th></th>\n",
              "      <th></th>\n",
              "      <th></th>\n",
              "      <th></th>\n",
              "      <th></th>\n",
              "    </tr>\n",
              "  </thead>\n",
              "  <tbody>\n",
              "    <tr>\n",
              "      <th>CROX</th>\n",
              "      <th>2020-03-12</th>\n",
              "      <td>11.942881</td>\n",
              "      <td>-17.951418</td>\n",
              "      <td>NaN</td>\n",
              "      <td>NaN</td>\n",
              "      <td>2.061336</td>\n",
              "      <td>NaN</td>\n",
              "    </tr>\n",
              "    <tr>\n",
              "      <th>XEC</th>\n",
              "      <th>2020-03-12</th>\n",
              "      <td>2.498744</td>\n",
              "      <td>1.795001</td>\n",
              "      <td>0.157031</td>\n",
              "      <td>0.308320</td>\n",
              "      <td>2.009489</td>\n",
              "      <td>0.095042</td>\n",
              "    </tr>\n",
              "    <tr>\n",
              "      <th>HFC</th>\n",
              "      <th>2020-03-12</th>\n",
              "      <td>4.878577</td>\n",
              "      <td>2.343259</td>\n",
              "      <td>0.145555</td>\n",
              "      <td>0.270254</td>\n",
              "      <td>2.503984</td>\n",
              "      <td>NaN</td>\n",
              "    </tr>\n",
              "    <tr>\n",
              "      <th>HAL</th>\n",
              "      <th>2020-03-12</th>\n",
              "      <td>4.173714</td>\n",
              "      <td>3.399964</td>\n",
              "      <td>0.066016</td>\n",
              "      <td>0.198347</td>\n",
              "      <td>2.322157</td>\n",
              "      <td>0.402471</td>\n",
              "    </tr>\n",
              "    <tr>\n",
              "      <th>STLD</th>\n",
              "      <th>2020-03-12</th>\n",
              "      <td>3.747637</td>\n",
              "      <td>3.502535</td>\n",
              "      <td>0.183551</td>\n",
              "      <td>0.380599</td>\n",
              "      <td>3.956933</td>\n",
              "      <td>0.308523</td>\n",
              "    </tr>\n",
              "    <tr>\n",
              "      <th>MU</th>\n",
              "      <th>2020-03-12</th>\n",
              "      <td>6.047258</td>\n",
              "      <td>3.542230</td>\n",
              "      <td>0.316506</td>\n",
              "      <td>0.491606</td>\n",
              "      <td>2.248336</td>\n",
              "      <td>0.131404</td>\n",
              "    </tr>\n",
              "    <tr>\n",
              "      <th>CPRI</th>\n",
              "      <th>2020-03-12</th>\n",
              "      <td>2.789597</td>\n",
              "      <td>3.891283</td>\n",
              "      <td>0.134628</td>\n",
              "      <td>0.272893</td>\n",
              "      <td>2.479098</td>\n",
              "      <td>0.420360</td>\n",
              "    </tr>\n",
              "    <tr>\n",
              "      <th>NKTR</th>\n",
              "      <th>2020-03-12</th>\n",
              "      <td>4.106544</td>\n",
              "      <td>4.259007</td>\n",
              "      <td>1.338885</td>\n",
              "      <td>7.757355</td>\n",
              "      <td>17.532341</td>\n",
              "      <td>0.424793</td>\n",
              "    </tr>\n",
              "    <tr>\n",
              "      <th>NUE</th>\n",
              "      <th>2020-03-12</th>\n",
              "      <td>6.973346</td>\n",
              "      <td>4.262431</td>\n",
              "      <td>0.149026</td>\n",
              "      <td>0.259859</td>\n",
              "      <td>3.077456</td>\n",
              "      <td>0.239453</td>\n",
              "    </tr>\n",
              "    <tr>\n",
              "      <th>TOL</th>\n",
              "      <th>2020-03-12</th>\n",
              "      <td>5.685816</td>\n",
              "      <td>5.615447</td>\n",
              "      <td>0.075702</td>\n",
              "      <td>0.163071</td>\n",
              "      <td>3.504603</td>\n",
              "      <td>NaN</td>\n",
              "    </tr>\n",
              "    <tr>\n",
              "      <th>TPR</th>\n",
              "      <th>2020-03-12</th>\n",
              "      <td>4.814895</td>\n",
              "      <td>5.992368</td>\n",
              "      <td>0.097458</td>\n",
              "      <td>0.247203</td>\n",
              "      <td>2.616317</td>\n",
              "      <td>0.224980</td>\n",
              "    </tr>\n",
              "    <tr>\n",
              "      <th>EXEL</th>\n",
              "      <th>2020-03-12</th>\n",
              "      <td>12.463704</td>\n",
              "      <td>6.912698</td>\n",
              "      <td>1.053069</td>\n",
              "      <td>2.421630</td>\n",
              "      <td>8.504779</td>\n",
              "      <td>0.347970</td>\n",
              "    </tr>\n",
              "    <tr>\n",
              "      <th>CALM</th>\n",
              "      <th>2020-03-12</th>\n",
              "      <td>11.053360</td>\n",
              "      <td>7.431057</td>\n",
              "      <td>0.189726</td>\n",
              "      <td>0.251598</td>\n",
              "      <td>6.064866</td>\n",
              "      <td>0.003357</td>\n",
              "    </tr>\n",
              "    <tr>\n",
              "      <th>PRGO</th>\n",
              "      <th>2020-03-12</th>\n",
              "      <td>7.970236</td>\n",
              "      <td>8.591548</td>\n",
              "      <td>0.108734</td>\n",
              "      <td>0.227802</td>\n",
              "      <td>3.183860</td>\n",
              "      <td>0.360024</td>\n",
              "    </tr>\n",
              "    <tr>\n",
              "      <th>ASH</th>\n",
              "      <th>2020-03-12</th>\n",
              "      <td>15.599334</td>\n",
              "      <td>8.998197</td>\n",
              "      <td>NaN</td>\n",
              "      <td>NaN</td>\n",
              "      <td>2.321600</td>\n",
              "      <td>0.325133</td>\n",
              "    </tr>\n",
              "    <tr>\n",
              "      <th>AIT</th>\n",
              "      <th>2020-03-12</th>\n",
              "      <td>9.585547</td>\n",
              "      <td>10.100960</td>\n",
              "      <td>0.117086</td>\n",
              "      <td>0.211237</td>\n",
              "      <td>2.747120</td>\n",
              "      <td>0.422532</td>\n",
              "    </tr>\n",
              "    <tr>\n",
              "      <th>EXP</th>\n",
              "      <th>2020-03-12</th>\n",
              "      <td>13.837039</td>\n",
              "      <td>10.480119</td>\n",
              "      <td>0.105372</td>\n",
              "      <td>0.171731</td>\n",
              "      <td>2.261882</td>\n",
              "      <td>0.265950</td>\n",
              "    </tr>\n",
              "    <tr>\n",
              "      <th>MMI</th>\n",
              "      <th>2020-03-12</th>\n",
              "      <td>9.156993</td>\n",
              "      <td>11.464160</td>\n",
              "      <td>0.189828</td>\n",
              "      <td>0.277101</td>\n",
              "      <td>9.115005</td>\n",
              "      <td>0.013509</td>\n",
              "    </tr>\n",
              "    <tr>\n",
              "      <th>USNA</th>\n",
              "      <th>2020-03-12</th>\n",
              "      <td>10.599762</td>\n",
              "      <td>11.846214</td>\n",
              "      <td>0.243080</td>\n",
              "      <td>0.347523</td>\n",
              "      <td>2.638682</td>\n",
              "      <td>NaN</td>\n",
              "    </tr>\n",
              "    <tr>\n",
              "      <th>TROW</th>\n",
              "      <th>2020-03-12</th>\n",
              "      <td>15.604339</td>\n",
              "      <td>12.325517</td>\n",
              "      <td>0.243849</td>\n",
              "      <td>0.269539</td>\n",
              "      <td>9.002956</td>\n",
              "      <td>NaN</td>\n",
              "    </tr>\n",
              "    <tr>\n",
              "      <th>SKX</th>\n",
              "      <th>2020-03-12</th>\n",
              "      <td>9.386647</td>\n",
              "      <td>13.267856</td>\n",
              "      <td>0.110067</td>\n",
              "      <td>0.154522</td>\n",
              "      <td>2.907641</td>\n",
              "      <td>0.030049</td>\n",
              "    </tr>\n",
              "    <tr>\n",
              "      <th>KLAC</th>\n",
              "      <th>2020-03-12</th>\n",
              "      <td>13.017962</td>\n",
              "      <td>13.761044</td>\n",
              "      <td>0.262737</td>\n",
              "      <td>1.159157</td>\n",
              "      <td>3.025564</td>\n",
              "      <td>0.399333</td>\n",
              "    </tr>\n",
              "    <tr>\n",
              "      <th>JAZZ</th>\n",
              "      <th>2020-03-12</th>\n",
              "      <td>9.589945</td>\n",
              "      <td>14.316001</td>\n",
              "      <td>0.087261</td>\n",
              "      <td>0.164825</td>\n",
              "      <td>3.571784</td>\n",
              "      <td>0.306796</td>\n",
              "    </tr>\n",
              "    <tr>\n",
              "      <th>LRCX</th>\n",
              "      <th>2020-03-12</th>\n",
              "      <td>14.770022</td>\n",
              "      <td>14.457273</td>\n",
              "      <td>0.224760</td>\n",
              "      <td>0.472424</td>\n",
              "      <td>3.394739</td>\n",
              "      <td>0.185755</td>\n",
              "    </tr>\n",
              "    <tr>\n",
              "      <th>ALG</th>\n",
              "      <th>2020-03-12</th>\n",
              "      <td>-88.613768</td>\n",
              "      <td>15.010535</td>\n",
              "      <td>0.114881</td>\n",
              "      <td>0.163627</td>\n",
              "      <td>4.490174</td>\n",
              "      <td>0.118201</td>\n",
              "    </tr>\n",
              "    <tr>\n",
              "      <th>BKNG</th>\n",
              "      <th>2020-03-12</th>\n",
              "      <td>12.557387</td>\n",
              "      <td>15.377931</td>\n",
              "      <td>0.157085</td>\n",
              "      <td>0.355043</td>\n",
              "      <td>2.364838</td>\n",
              "      <td>NaN</td>\n",
              "    </tr>\n",
              "    <tr>\n",
              "      <th>HXL</th>\n",
              "      <th>2020-03-12</th>\n",
              "      <td>18.182554</td>\n",
              "      <td>15.599132</td>\n",
              "      <td>0.099464</td>\n",
              "      <td>0.185004</td>\n",
              "      <td>2.068564</td>\n",
              "      <td>0.338798</td>\n",
              "    </tr>\n",
              "    <tr>\n",
              "      <th>CORT</th>\n",
              "      <th>2020-03-12</th>\n",
              "      <td>11.508406</td>\n",
              "      <td>17.606289</td>\n",
              "      <td>0.341938</td>\n",
              "      <td>0.394883</td>\n",
              "      <td>6.657296</td>\n",
              "      <td>0.297553</td>\n",
              "    </tr>\n",
              "    <tr>\n",
              "      <th>ULTA</th>\n",
              "      <th>2020-03-12</th>\n",
              "      <td>18.765241</td>\n",
              "      <td>18.143152</td>\n",
              "      <td>0.226411</td>\n",
              "      <td>0.371183</td>\n",
              "      <td>2.324605</td>\n",
              "      <td>NaN</td>\n",
              "    </tr>\n",
              "    <tr>\n",
              "      <th>FELE</th>\n",
              "      <th>2020-03-12</th>\n",
              "      <td>18.834878</td>\n",
              "      <td>18.986088</td>\n",
              "      <td>0.089321</td>\n",
              "      <td>0.150367</td>\n",
              "      <td>2.266418</td>\n",
              "      <td>0.174526</td>\n",
              "    </tr>\n",
              "    <tr>\n",
              "      <th>LFUS</th>\n",
              "      <th>2020-03-12</th>\n",
              "      <td>12.252812</td>\n",
              "      <td>19.853404</td>\n",
              "      <td>0.094572</td>\n",
              "      <td>0.177418</td>\n",
              "      <td>3.496798</td>\n",
              "      <td>0.265742</td>\n",
              "    </tr>\n",
              "  </tbody>\n",
              "</table>\n",
              "</div>"
            ],
            "text/plain": [
              "                       P/FCF        P/E  ...  Current Ratio  Debt Ratio\n",
              "Ticker Date                              ...                           \n",
              "CROX   2020-03-12  11.942881 -17.951418  ...       2.061336         NaN\n",
              "XEC    2020-03-12   2.498744   1.795001  ...       2.009489    0.095042\n",
              "HFC    2020-03-12   4.878577   2.343259  ...       2.503984         NaN\n",
              "HAL    2020-03-12   4.173714   3.399964  ...       2.322157    0.402471\n",
              "STLD   2020-03-12   3.747637   3.502535  ...       3.956933    0.308523\n",
              "MU     2020-03-12   6.047258   3.542230  ...       2.248336    0.131404\n",
              "CPRI   2020-03-12   2.789597   3.891283  ...       2.479098    0.420360\n",
              "NKTR   2020-03-12   4.106544   4.259007  ...      17.532341    0.424793\n",
              "NUE    2020-03-12   6.973346   4.262431  ...       3.077456    0.239453\n",
              "TOL    2020-03-12   5.685816   5.615447  ...       3.504603         NaN\n",
              "TPR    2020-03-12   4.814895   5.992368  ...       2.616317    0.224980\n",
              "EXEL   2020-03-12  12.463704   6.912698  ...       8.504779    0.347970\n",
              "CALM   2020-03-12  11.053360   7.431057  ...       6.064866    0.003357\n",
              "PRGO   2020-03-12   7.970236   8.591548  ...       3.183860    0.360024\n",
              "ASH    2020-03-12  15.599334   8.998197  ...       2.321600    0.325133\n",
              "AIT    2020-03-12   9.585547  10.100960  ...       2.747120    0.422532\n",
              "EXP    2020-03-12  13.837039  10.480119  ...       2.261882    0.265950\n",
              "MMI    2020-03-12   9.156993  11.464160  ...       9.115005    0.013509\n",
              "USNA   2020-03-12  10.599762  11.846214  ...       2.638682         NaN\n",
              "TROW   2020-03-12  15.604339  12.325517  ...       9.002956         NaN\n",
              "SKX    2020-03-12   9.386647  13.267856  ...       2.907641    0.030049\n",
              "KLAC   2020-03-12  13.017962  13.761044  ...       3.025564    0.399333\n",
              "JAZZ   2020-03-12   9.589945  14.316001  ...       3.571784    0.306796\n",
              "LRCX   2020-03-12  14.770022  14.457273  ...       3.394739    0.185755\n",
              "ALG    2020-03-12 -88.613768  15.010535  ...       4.490174    0.118201\n",
              "BKNG   2020-03-12  12.557387  15.377931  ...       2.364838         NaN\n",
              "HXL    2020-03-12  18.182554  15.599132  ...       2.068564    0.338798\n",
              "CORT   2020-03-12  11.508406  17.606289  ...       6.657296    0.297553\n",
              "ULTA   2020-03-12  18.765241  18.143152  ...       2.324605         NaN\n",
              "FELE   2020-03-12  18.834878  18.986088  ...       2.266418    0.174526\n",
              "LFUS   2020-03-12  12.252812  19.853404  ...       3.496798    0.265742\n",
              "\n",
              "[31 rows x 6 columns]"
            ]
          },
          "metadata": {
            "tags": []
          },
          "execution_count": 41
        }
      ]
    },
    {
      "cell_type": "markdown",
      "metadata": {
        "id": "SgJY-ZDdg3HV",
        "colab_type": "text"
      },
      "source": [
        "## Back-Testing\n",
        "\n",
        "We will now test if the stock-screener would have been able to find profitable investments in the past. You can use this method to test which screener-criteria are important and which ones are not, so as to gradually refine your stock-screener.\n",
        "\n",
        "First we need to calculate the signals for all the historical daily data-points. We will screen for P/E ratios, Sales Growth, Return on Assets, etc., and these signals are highly susceptible to short-term variations, so we will use their 3-year averages instead.\n",
        "\n",
        "Then we calculate the 1-3 year average annualized log-returns for all the stocks, which is the investment horizon we will consider when testing if the screener's criteria could discover profitable investments in the past. Note that we are calculating the average log-returns for all 1-3 year investment periods, because the log-returns are easier to calculate using Pandas and numpy.\n",
        "\n",
        "Calculating the signals and returns takes a few minutes to run."
      ]
    },
    {
      "cell_type": "code",
      "metadata": {
        "id": "gp9Btrrlg3HV",
        "colab_type": "code",
        "colab": {
          "base_uri": "https://localhost:8080/",
          "height": 323
        },
        "outputId": "f5279f90-d9cd-452e-dfa2-938cc7dd1869"
      },
      "source": [
        "%%time\n",
        "# Calculate the signals for all daily data-points.\n",
        "# We pass the arg func=sf.avg_ttm_3y to get the 3-year averages.\n",
        "df_fin_signals = hub.fin_signals(variant='daily', func=sf.avg_ttm_3y)\n",
        "df_growth_signals = hub.growth_signals(variant='daily', func=sf.avg_ttm_3y)\n",
        "df_val_signals = hub.val_signals(variant='daily', func=sf.avg_ttm_3y)\n",
        "\n",
        "# Combine all the signals into a single DataFrame.\n",
        "dfs = [df_fin_signals, df_growth_signals, df_val_signals]\n",
        "df_signals = pd.concat(dfs, axis=1)\n",
        "\n",
        "# Remove outliers in the signals by clipping / limiting them.\n",
        "df_signals = sf.winsorize(df=df_signals, clip=True)\n",
        "\n",
        "# Name of the data-column for the stock-returns.\n",
        "TOTAL_RETURN_1_3Y = 'Total Return 1-3 Years'\n",
        "\n",
        "# Calculate the mean log-returns for all 1-3 year periods.\n",
        "df_returns_1_3y = \\\n",
        "    hub.mean_log_returns(name=TOTAL_RETURN_1_3Y,\n",
        "                         future=True, annualized=True,\n",
        "                         min_years=1, max_years=3)\n",
        "\n",
        "# Combine the signals and mean log-returns into a single DataFrame.\n",
        "dfs = [df_signals, df_returns_1_3y]\n",
        "df_sig_rets = pd.concat(dfs, axis=1)"
      ],
      "execution_count": 42,
      "outputs": [
        {
          "output_type": "stream",
          "text": [
            "Dataset \"us-shareprices-daily\" not on disk.\n",
            "- Downloading ... 100.0%\n",
            "- Extracting zip-file ... Done!\n",
            "- Loading from disk ... Done!\n",
            "Cache-file 'fin_signals-92e21ef8.pickle' not on disk.\n",
            "- Running function fin_signals() ... Done!\n",
            "- Saving cache-file to disk ... Done!\n",
            "Cache-file 'growth_signals-92e21ef8.pickle' not on disk.\n",
            "- Running function growth_signals() ... Done!\n",
            "- Saving cache-file to disk ... Done!\n",
            "Cache-file 'val_signals-c16ad832.pickle' not on disk.\n",
            "- Running function val_signals() ... Done!\n",
            "- Saving cache-file to disk ... Done!\n",
            "Cache-file 'mean_log_change-90769289.pickle' not on disk.\n",
            "- Running function mean_log_change() ... Done!\n",
            "- Saving cache-file to disk ... Done!\n",
            "CPU times: user 5min 14s, sys: 12.4 s, total: 5min 26s\n",
            "Wall time: 5min 29s\n"
          ],
          "name": "stdout"
        }
      ]
    },
    {
      "cell_type": "markdown",
      "metadata": {
        "id": "76itMGSmg3HY",
        "colab_type": "text"
      },
      "source": [
        "We can now create a stock-screener similar to how we did it above. We will use nearly the same criteria as above with only minor changes. The result is a Pandas Series with boolean values for each stock and each trading-day, telling us whether or not the screener's criteria were met for that stock on that particular day. We can then use this boolean mask to select only the rows where the screener's criteria were met."
      ]
    },
    {
      "cell_type": "code",
      "metadata": {
        "id": "WhB3T-M6g3HY",
        "colab_type": "code",
        "colab": {}
      },
      "source": [
        "# Start the screener with a market-cap condition.\n",
        "mask = (df_sig_rets[MARKET_CAP] > 1e9)\n",
        "\n",
        "# Screener criteria where NaN signals are ignored.\n",
        "mask &= ((df_sig_rets[CURRENT_RATIO] > 2) | (df_sig_rets[CURRENT_RATIO].isnull()))\n",
        "mask &= ((df_sig_rets[DEBT_RATIO] < 0.5) | (df_sig_rets[DEBT_RATIO].isnull()))\n",
        "mask &= (((df_sig_rets[PE] > 0) & (df_sig_rets[PE] < 20)) | (df_sig_rets[PE].isnull()))\n",
        "mask &= (((df_sig_rets[PFCF] > 0) & (df_sig_rets[PFCF] < 20)) | (df_sig_rets[PFCF].isnull()))\n",
        "mask &= ((df_sig_rets[ROA] > 0.03) | (df_sig_rets[ROA].isnull()))\n",
        "mask &= ((df_sig_rets[ROE] > 0.15) | (df_sig_rets[ROE].isnull()))\n",
        "mask &= ((df_sig_rets[NET_PROFIT_MARGIN] > 0.0) | (df_sig_rets[NET_PROFIT_MARGIN].isnull()))\n",
        "mask &= ((df_sig_rets[SALES_GROWTH] > 0.0) | (df_sig_rets[SALES_GROWTH].isnull()))\n",
        "    \n",
        "# Select the rows that satisfy the screener criteria.\n",
        "df_match = df_sig_rets.loc[mask]"
      ],
      "execution_count": 0,
      "outputs": []
    },
    {
      "cell_type": "markdown",
      "metadata": {
        "id": "rVd_yhZqg3Hb",
        "colab_type": "text"
      },
      "source": [
        "The table below shows some basic statistics for the historical stock-returns when the screener's criteria were met. Because of outliers in the data, it is probably best to ignore the means and instead consider the medians."
      ]
    },
    {
      "cell_type": "code",
      "metadata": {
        "id": "SWzkPAs5g3Hb",
        "colab_type": "code",
        "colab": {
          "base_uri": "https://localhost:8080/",
          "height": 297
        },
        "outputId": "baa4f2d7-eb08-4105-e858-739d134490bf"
      },
      "source": [
        "# Combine basic statistics for the stock-returns and show them.\n",
        "data = \\\n",
        "{\n",
        "    'Screener': df_match[TOTAL_RETURN_1_3Y].describe(),\n",
        "    'No Screener': df_sig_rets[TOTAL_RETURN_1_3Y].describe()\n",
        "}\n",
        "pd.DataFrame(data).round(3)"
      ],
      "execution_count": 44,
      "outputs": [
        {
          "output_type": "execute_result",
          "data": {
            "text/html": [
              "<div>\n",
              "<style scoped>\n",
              "    .dataframe tbody tr th:only-of-type {\n",
              "        vertical-align: middle;\n",
              "    }\n",
              "\n",
              "    .dataframe tbody tr th {\n",
              "        vertical-align: top;\n",
              "    }\n",
              "\n",
              "    .dataframe thead th {\n",
              "        text-align: right;\n",
              "    }\n",
              "</style>\n",
              "<table border=\"1\" class=\"dataframe\">\n",
              "  <thead>\n",
              "    <tr style=\"text-align: right;\">\n",
              "      <th></th>\n",
              "      <th>Screener</th>\n",
              "      <th>No Screener</th>\n",
              "    </tr>\n",
              "  </thead>\n",
              "  <tbody>\n",
              "    <tr>\n",
              "      <th>count</th>\n",
              "      <td>448377.000</td>\n",
              "      <td>3580873.000</td>\n",
              "    </tr>\n",
              "    <tr>\n",
              "      <th>mean</th>\n",
              "      <td>0.120</td>\n",
              "      <td>0.047</td>\n",
              "    </tr>\n",
              "    <tr>\n",
              "      <th>std</th>\n",
              "      <td>0.229</td>\n",
              "      <td>0.340</td>\n",
              "    </tr>\n",
              "    <tr>\n",
              "      <th>min</th>\n",
              "      <td>-4.985</td>\n",
              "      <td>-5.529</td>\n",
              "    </tr>\n",
              "    <tr>\n",
              "      <th>25%</th>\n",
              "      <td>0.035</td>\n",
              "      <td>-0.090</td>\n",
              "    </tr>\n",
              "    <tr>\n",
              "      <th>50%</th>\n",
              "      <td>0.146</td>\n",
              "      <td>0.088</td>\n",
              "    </tr>\n",
              "    <tr>\n",
              "      <th>75%</th>\n",
              "      <td>0.245</td>\n",
              "      <td>0.222</td>\n",
              "    </tr>\n",
              "    <tr>\n",
              "      <th>max</th>\n",
              "      <td>1.113</td>\n",
              "      <td>4.163</td>\n",
              "    </tr>\n",
              "  </tbody>\n",
              "</table>\n",
              "</div>"
            ],
            "text/plain": [
              "         Screener  No Screener\n",
              "count  448377.000  3580873.000\n",
              "mean        0.120        0.047\n",
              "std         0.229        0.340\n",
              "min        -4.985       -5.529\n",
              "25%         0.035       -0.090\n",
              "50%         0.146        0.088\n",
              "75%         0.245        0.222\n",
              "max         1.113        4.163"
            ]
          },
          "metadata": {
            "tags": []
          },
          "execution_count": 44
        }
      ]
    },
    {
      "cell_type": "markdown",
      "metadata": {
        "id": "LX2BUIYCg3Hd",
        "colab_type": "text"
      },
      "source": [
        "When the screener was used, the median annualized return was several percentage-points higher than without the screener. These are log-returns but in this range of values, they are nearly the same as the non-log returns.\n",
        "\n",
        "The standard deviation was significantly lower when using the screener, even though the returns are significantly higher. This is contrary to what academic finance theory claims possible, because they believe that the standard deviation measures investment risk, and risk must be inversely proportional to returns. But the standard deviation is an absurd measure of investment risk as explained [here](https://www.youtube.com/watch?v=wr8NzThfpAE) and [here](https://www.youtube.com/watch?v=DzTlH6ipx98).\n",
        "\n",
        "Also note that there are millions of rows in the original dataset, but there is only a fraction of those rows that meet the screener's criteria.\n",
        "\n",
        "Let us now make plots of the signals versus stock-returns. First we need a helper-function:"
      ]
    },
    {
      "cell_type": "code",
      "metadata": {
        "id": "I0s_TggOg3He",
        "colab_type": "code",
        "colab": {}
      },
      "source": [
        "def plot_scatter(df, x, y, hue=None, num_samples=5000):\n",
        "    \"\"\"\n",
        "    Make a scatter-plot using a random sub-sample of the data.\n",
        "    \n",
        "    :param df:\n",
        "        Pandas DataFrame with columns named `x`, `y` and `hue`.\n",
        "\n",
        "    :param x:\n",
        "        String with column-name for the x-axis.\n",
        "\n",
        "    :param y:\n",
        "        String with column-name for the y-axis.\n",
        "\n",
        "    :param hue:\n",
        "        Either None or string with column-name for the hue.\n",
        "\n",
        "    :param num_samples:\n",
        "        Int with number of random samples for the scatter-plot.\n",
        "\n",
        "    :return:\n",
        "        matplotlib Axes object\n",
        "    \"\"\"\n",
        "\n",
        "    # Select the relevant columns from the DataFrame.\n",
        "    if hue is None:\n",
        "        df = df[[x, y]]\n",
        "    else:\n",
        "        df = df[[x, y, hue]]\n",
        "        \n",
        "    # Remove empty rows.\n",
        "    df = df.dropna()\n",
        "\n",
        "    # Only plot a random sample of the data-points?\n",
        "    if num_samples is not None and len(df) > num_samples:\n",
        "        idx = np.random.randint(len(df), size=num_samples)\n",
        "        df = df.iloc[idx]\n",
        "        \n",
        "    # Ensure the plotting area is a square.\n",
        "    plt.figure(figsize=(5,5))\n",
        "\n",
        "    # Make the scatter-plot.\n",
        "    ax = sns.scatterplot(x=x, y=y, hue=hue, s=20,\n",
        "                         data=df.reset_index())\n",
        "\n",
        "    # Move legend for the hue.\n",
        "    if hue is not None:\n",
        "        ax.legend(loc='center left', bbox_to_anchor=(1, 0.5), ncol=1)\n",
        "    \n",
        "    return ax"
      ],
      "execution_count": 0,
      "outputs": []
    },
    {
      "cell_type": "markdown",
      "metadata": {
        "id": "P0jzeMGvg3Hf",
        "colab_type": "text"
      },
      "source": [
        "Let us try and plot the P/E ratio on the x-axis and the average stock-returns for all 1-3 year periods on the y-axis. The hue is the Return on Equity. This is just a random blob of points:"
      ]
    },
    {
      "cell_type": "code",
      "metadata": {
        "id": "WiHYCpI1g3Hg",
        "colab_type": "code",
        "colab": {
          "base_uri": "https://localhost:8080/",
          "height": 334
        },
        "outputId": "ea3ede21-acf6-420e-9878-919fe69925e9"
      },
      "source": [
        "plot_scatter(df=df_sig_rets, x=PE, y=TOTAL_RETURN_1_3Y, hue=ROE);"
      ],
      "execution_count": 46,
      "outputs": [
        {
          "output_type": "display_data",
          "data": {
            "image/png": "[encoded data removed]",
            "text/plain": [
              "<Figure size 360x360 with 1 Axes>"
            ]
          },
          "metadata": {
            "tags": []
          }
        }
      ]
    },
    {
      "cell_type": "markdown",
      "metadata": {
        "id": "EDDfdfLZg3Hh",
        "colab_type": "text"
      },
      "source": [
        "Note that these scatter-plots only use a sample of 5000 randomly selected points, because there is actually more than 1.5 million data-points, which would make the plotting very slow (or even crash the program), and even if it worked, it would make the plot very messy to look at. Because of the random sampling, the plots may change slightly if you run the function again, but the plots should generally be representative of the entire data-set.\n",
        "\n",
        "Now let us try and restrict the plot to only show the data-points where the stock-screener's criteria were met. This is still a blob of points, but perhaps not quite as random as before. The points are also shifted upwards because they tend to have more positive stock-returns."
      ]
    },
    {
      "cell_type": "code",
      "metadata": {
        "id": "fbgXlgmcg3Hi",
        "colab_type": "code",
        "colab": {
          "base_uri": "https://localhost:8080/",
          "height": 334
        },
        "outputId": "1c2ba9e3-e209-4e36-ff14-e1181bed0807"
      },
      "source": [
        "plot_scatter(df=df_match, x=PE, y=TOTAL_RETURN_1_3Y, hue=ROE);"
      ],
      "execution_count": 47,
      "outputs": [
        {
          "output_type": "display_data",
          "data": {
            "image/png": "[encoded data removed]",
            "text/plain": [
              "<Figure size 360x360 with 1 Axes>"
            ]
          },
          "metadata": {
            "tags": []
          }
        }
      ]
    },
    {
      "cell_type": "markdown",
      "metadata": {
        "id": "Wr7qtjqqg3Hk",
        "colab_type": "text"
      },
      "source": [
        "If we plot it for only some of the tickers, then we can see a characteristic downward-trending slope, which is the topic of [this research](https://www.youtube.com/playlist?list=PL9Hr9sNUjfsmlHaWuVxIA0pKL1yjryR0Z). It turns out there is a mathematical reason why we are observing this downwards slope in the data, as explained [here](https://www.youtube.com/watch?v=OFCHKYgGJRA). The slope always has the same shape, it is just shifted up or down depending on the company's future sales and earnings growth, and its future stock-valuation ratio."
      ]
    },
    {
      "cell_type": "code",
      "metadata": {
        "id": "Ah-l9-CXg3Hl",
        "colab_type": "code",
        "colab": {
          "base_uri": "https://localhost:8080/",
          "height": 357
        },
        "outputId": "2d6d13f4-4f3d-4b75-ca08-ae564dcf4273"
      },
      "source": [
        "# Get all tickers that match the screener-criteria at some point.\n",
        "all_tickers = df_match[[PE, TOTAL_RETURN_1_3Y]].dropna().reset_index()[TICKER].unique()\n",
        "\n",
        "# Randomly select some of those tickers.\n",
        "tickers = np.random.choice(all_tickers, size=20, replace=False)\n",
        "\n",
        "# Make the scatter-plot for only those tickers.\n",
        "plot_scatter(df=df_match.loc[tickers].reset_index(),\n",
        "             x=PE, y=TOTAL_RETURN_1_3Y, hue=TICKER);"
      ],
      "execution_count": 48,
      "outputs": [
        {
          "output_type": "display_data",
          "data": {
            "image/png": "[encoded data removed]",
            "text/plain": [
              "<Figure size 360x360 with 1 Axes>"
            ]
          },
          "metadata": {
            "tags": []
          }
        }
      ]
    },
    {
      "cell_type": "markdown",
      "metadata": {
        "id": "iWpLNAEwg3Hm",
        "colab_type": "text"
      },
      "source": [
        "## Optimization\n",
        "\n",
        "We can also automatically optimize the parameters of the screener-criteria by using a heuristic optimizer such as [Differential Evolution](https://en.wikipedia.org/wiki/Differential_evolution) as implemented in the [scipy](https://docs.scipy.org/doc/scipy/reference/generated/scipy.optimize.differential_evolution.html) library. Because this optimizer does not require the mathematical gradient of the problem, it can often optimize very hard problems that cannot be made into simple mathematical formulas.\n",
        "\n",
        "We will use a simplified screener in this example. First we define the boundaries for the screener's parameters:"
      ]
    },
    {
      "cell_type": "code",
      "metadata": {
        "id": "Ws9-yme6g3Hn",
        "colab_type": "code",
        "colab": {}
      },
      "source": [
        "bounds = \\\n",
        "[\n",
        "    (1e6, 1e12),  # mcap_min\n",
        "    (0.0, 1.0),   # debt_ratio_max\n",
        "    (0.0, 30.0),  # pe_min\n",
        "    (0.0, 50.0),  # pe_max\n",
        "    (0.0, 1.0),   # roa_min\n",
        "    (0.0, 1.0),   # roe_min\n",
        "    (-0.2, 0.5),  # sales_growth_min\n",
        "]"
      ],
      "execution_count": 0,
      "outputs": []
    },
    {
      "cell_type": "markdown",
      "metadata": {
        "id": "LSJ8hq2fg3Ho",
        "colab_type": "text"
      },
      "source": [
        "Then we define a function for running the stock-screener, which returns the rows from `df_sig_rets` that match the screener-criteria with the given parameters. This is a simpler version of the stock-screeners we made above."
      ]
    },
    {
      "cell_type": "code",
      "metadata": {
        "id": "QCRWbrfmg3Hp",
        "colab_type": "code",
        "colab": {}
      },
      "source": [
        "def screener(x):\n",
        "    \"\"\"\n",
        "    Run the stock-screener with the given parameters x\n",
        "    and return only the rows that satisfy the screen-criteria.\n",
        "    \n",
        "    :param x: Array with parameters for the screener.\n",
        "    :return: Pandas DataFrame.\n",
        "    \"\"\"\n",
        "\n",
        "    # Unpack the screener-parameters.\n",
        "    mcap_min, debt_ratio_max, pe_min, pe_max, roa_min, \\\n",
        "        roe_min, sales_growth_min = x\n",
        "    \n",
        "    # Start the screener with a market-cap condition.\n",
        "    mask = (df_sig_rets[MARKET_CAP] > mcap_min)\n",
        "\n",
        "    # Screener criteria where NaN signals are ignored.\n",
        "    mask &= ((df_sig_rets[DEBT_RATIO] < debt_ratio_max) | (df_sig_rets[DEBT_RATIO].isnull()))\n",
        "    mask &= ((df_sig_rets[ROA] > roa_min) | (df_sig_rets[ROA].isnull()))\n",
        "    mask &= ((df_sig_rets[ROE] > roe_min) | (df_sig_rets[ROE].isnull()))\n",
        "    mask &= (((df_sig_rets[PE] > pe_min) & (df_sig_rets[PE] < pe_max)) | (df_sig_rets[PE].isnull()))\n",
        "    mask &= ((df_sig_rets[SALES_GROWTH] > sales_growth_min) | (df_sig_rets[SALES_GROWTH].isnull()))\n",
        "\n",
        "    # Select the rows that satisfy the screener criteria.\n",
        "    df_match = df_sig_rets.loc[mask]\n",
        "    \n",
        "    return df_match"
      ],
      "execution_count": 0,
      "outputs": []
    },
    {
      "cell_type": "markdown",
      "metadata": {
        "id": "t5een215g3Hq",
        "colab_type": "text"
      },
      "source": [
        "Then we define the objective function (aka. cost or fitness function) that must be *minimized*. This basically just wraps the screener-function above and measures the median returns for stocks that match the screener-criteria with the given parameters.\n",
        "\n",
        "The objective function also penalizes screener-parameters that result in too few matching stocks or too few data-points, so as to avoid over-fitting the screener-parameters to just a few stocks that happened to perform really well during this period."
      ]
    },
    {
      "cell_type": "code",
      "metadata": {
        "id": "1XyP_lvFg3Hq",
        "colab_type": "code",
        "colab": {}
      },
      "source": [
        "def objective(x):\n",
        "    \"\"\"\n",
        "    Function whose return-value must be minimized by changing\n",
        "    the screener parameters x.\n",
        "    \n",
        "    :param x: Array with parameters for the screener.\n",
        "    :return: Float to be minimized.\n",
        "    \"\"\"\n",
        "\n",
        "    # Run the stock-screener and get the matching rows, which\n",
        "    # contain a Ticker and Date as well as the signals and\n",
        "    # future stock-returns.\n",
        "    df_match = screener(x)\n",
        "\n",
        "    # Did the stock-screener find any matching rows?\n",
        "    if len(df_match)>0:\n",
        "        # Get the stock-returns for the matching rows.\n",
        "        # Drop NaN-rows because we count the rows further below.\n",
        "        df_returns = df_match[TOTAL_RETURN_1_3Y].dropna()\n",
        "\n",
        "        # The optimization objective is the MEDIAN stock-return.\n",
        "        # We use this instead of the mean to avoid outliers.\n",
        "        # It is negated because the optimizer performs\n",
        "        # minimization, but we are actually interested in\n",
        "        # maximizing the median stock-return.\n",
        "        objective = -df_returns.median()\n",
        "    \n",
        "        # Now we will penalize the objective to try and find\n",
        "        # stock-screener parameters that result in certain\n",
        "        # characteristics for the matching stocks.\n",
        "        \n",
        "        # Initialize the penalty. This number will be lowered\n",
        "        # towards zero in the tests below, and finally multiplied\n",
        "        # with the objective value.\n",
        "        penalty = 1.0\n",
        "\n",
        "        # Gradually penalize when there are fewer data-points.\n",
        "        limit = 50000\n",
        "        if len(df_returns) < limit:\n",
        "            penalty *= len(df_returns) / limit\n",
        "\n",
        "        # Gradually penalize when there are fewer unique stocks.\n",
        "        num_tickers = len(df_returns.reset_index()[TICKER].unique())\n",
        "        limit = 100\n",
        "        if num_tickers < limit:\n",
        "            penalty *= num_tickers / limit\n",
        "\n",
        "        # Gradually penalize when there are fewer stocks per day\n",
        "        # on average.\n",
        "        num_per_day = df_returns.reset_index()[[DATE, TICKER]].groupby(DATE).count()\n",
        "        mean = num_per_day[TICKER].mean()\n",
        "        limit = 50\n",
        "        if mean < limit:\n",
        "            penalty *= mean / limit\n",
        "\n",
        "        # Gradually penalize when the P/E signal is missing / NaN.\n",
        "        penalty *= len(df_match[PE].dropna()) / len(df_match)\n",
        "\n",
        "        # Apply the penalty to the objective function.\n",
        "        objective *= penalty\n",
        "    else:\n",
        "        # The stock-screener did not find any matching rows,\n",
        "        # so use a very high value. A small random value is\n",
        "        # added to avoid premature stagnation of the optimizer,\n",
        "        # in case all trials in its populations have the exact\n",
        "        # same objective value.\n",
        "        objective = 1000.0 + np.random.rand()\n",
        "        \n",
        "    return objective"
      ],
      "execution_count": 0,
      "outputs": []
    },
    {
      "cell_type": "markdown",
      "metadata": {
        "id": "VX-tfTkGg3Hs",
        "colab_type": "text"
      },
      "source": [
        "We will also need a small helper-function for printing the best-found screener-parameters:"
      ]
    },
    {
      "cell_type": "code",
      "metadata": {
        "id": "TWm7FqSQg3Hs",
        "colab_type": "code",
        "colab": {}
      },
      "source": [
        "def print_parameters(x):\n",
        "    \"\"\"\n",
        "    Print the parameters for the screener-criteria.\n",
        "    \n",
        "    :param x: Array with parameters for the screener.\n",
        "    \"\"\"\n",
        "    \n",
        "    # Unpack the parameters.\n",
        "    mcap_min, debt_ratio_max, pe_min, pe_max, roa_min, \\\n",
        "        roe_min, sales_growth_min = x\n",
        "\n",
        "    # Print the parameters.\n",
        "    print('Market-Cap Min:   {:.0}'.format(mcap_min))\n",
        "    print('Debt Ratio Max:   {:.2f}'.format(debt_ratio_max))\n",
        "    print('P/E Min:          {:.1f}'.format(pe_min))\n",
        "    print('P/E Max:          {:.1f}'.format(pe_max))\n",
        "    print('ROA Min:          {:.2f}'.format(roa_min))\n",
        "    print('ROE Min:          {:.2f}'.format(roe_min))\n",
        "    print('Sales Growth Min: {:.2f}'.format(sales_growth_min))"
      ],
      "execution_count": 0,
      "outputs": []
    },
    {
      "cell_type": "markdown",
      "metadata": {
        "id": "KwdDfRAUg3Ht",
        "colab_type": "text"
      },
      "source": [
        "We can then run the optimization. This may take several minutes on a quad-core CPU."
      ]
    },
    {
      "cell_type": "code",
      "metadata": {
        "scrolled": true,
        "id": "UDcihHBtg3Ht",
        "colab_type": "code",
        "colab": {
          "base_uri": "https://localhost:8080/",
          "height": 561
        },
        "outputId": "4829e2da-9245-4b32-cd01-6c635d6624e4"
      },
      "source": [
        "%%time\n",
        "# Only do a short run if this is run using pytest.\n",
        "# This is to save time during automated testing.\n",
        "maxiter = 2 if running_pytest else 30\n",
        "\n",
        "# Run the optimization.\n",
        "# Note the increased population-size which seemed to\n",
        "# perform better than the default choice of only 15.\n",
        "result = differential_evolution(func=objective, bounds=bounds,\n",
        "                                popsize=30, disp=True,\n",
        "                                maxiter=maxiter)\n",
        "\n",
        "# Get the best-found screener parameters.\n",
        "best_parameters = result.x"
      ],
      "execution_count": 53,
      "outputs": [
        {
          "output_type": "stream",
          "text": [
            "differential_evolution step 1: f(x)= -0.0421815\n",
            "differential_evolution step 2: f(x)= -0.0421815\n",
            "differential_evolution step 3: f(x)= -0.0421815\n",
            "differential_evolution step 4: f(x)= -0.0437265\n",
            "differential_evolution step 5: f(x)= -0.0437265\n",
            "differential_evolution step 6: f(x)= -0.0503599\n",
            "differential_evolution step 7: f(x)= -0.0846018\n",
            "differential_evolution step 8: f(x)= -0.0846018\n",
            "differential_evolution step 9: f(x)= -0.0876395\n",
            "differential_evolution step 10: f(x)= -0.0885518\n",
            "differential_evolution step 11: f(x)= -0.0885518\n",
            "differential_evolution step 12: f(x)= -0.089657\n",
            "differential_evolution step 13: f(x)= -0.09008\n",
            "differential_evolution step 14: f(x)= -0.09008\n",
            "differential_evolution step 15: f(x)= -0.0908858\n",
            "differential_evolution step 16: f(x)= -0.0908858\n",
            "differential_evolution step 17: f(x)= -0.0913988\n",
            "differential_evolution step 18: f(x)= -0.0913988\n",
            "differential_evolution step 19: f(x)= -0.0913988\n",
            "differential_evolution step 20: f(x)= -0.091727\n",
            "differential_evolution step 21: f(x)= -0.0917897\n",
            "differential_evolution step 22: f(x)= -0.092304\n",
            "differential_evolution step 23: f(x)= -0.0925375\n",
            "differential_evolution step 24: f(x)= -0.0935884\n",
            "differential_evolution step 25: f(x)= -0.0935884\n",
            "differential_evolution step 26: f(x)= -0.0935884\n",
            "differential_evolution step 27: f(x)= -0.0935884\n",
            "differential_evolution step 28: f(x)= -0.0936636\n",
            "differential_evolution step 29: f(x)= -0.0936636\n",
            "differential_evolution step 30: f(x)= -0.0936636\n",
            "CPU times: user 16min 6s, sys: 25.7 s, total: 16min 32s\n",
            "Wall time: 16min 33s\n"
          ],
          "name": "stdout"
        }
      ]
    },
    {
      "cell_type": "markdown",
      "metadata": {
        "id": "qlNrEcivg3Hw",
        "colab_type": "text"
      },
      "source": [
        "These are the optimized screener-parameters that gave the best investment performance:"
      ]
    },
    {
      "cell_type": "code",
      "metadata": {
        "id": "yuZ8ZepCg3Hw",
        "colab_type": "code",
        "colab": {
          "base_uri": "https://localhost:8080/",
          "height": 136
        },
        "outputId": "bdd033f1-97dd-4ba5-8b95-5de669af4233"
      },
      "source": [
        "print_parameters(x=best_parameters)"
      ],
      "execution_count": 54,
      "outputs": [
        {
          "output_type": "stream",
          "text": [
            "Market-Cap Min:   4e+10\n",
            "Debt Ratio Max:   0.88\n",
            "P/E Min:          11.6\n",
            "P/E Max:          49.7\n",
            "ROA Min:          0.03\n",
            "ROE Min:          0.06\n",
            "Sales Growth Min: -0.16\n"
          ],
          "name": "stdout"
        }
      ]
    },
    {
      "cell_type": "markdown",
      "metadata": {
        "id": "ZvtfcUQCg3Hx",
        "colab_type": "text"
      },
      "source": [
        "We can then try and run the stock-screener with the optimized parameters, and make a scatter-plot of the matching P/E ratios versus the average 1-3 year stock-returns:"
      ]
    },
    {
      "cell_type": "code",
      "metadata": {
        "id": "hQXs2-Y2g3Hy",
        "colab_type": "code",
        "colab": {
          "base_uri": "https://localhost:8080/",
          "height": 334
        },
        "outputId": "d2076885-43c4-4a81-b485-7e0e7ce72c84"
      },
      "source": [
        "# Run the screener with the optimized parameters,\n",
        "# and get the rows that satisfy the screener-criteria.\n",
        "df_match = screener(best_parameters)\n",
        "\n",
        "# Scatter-plot of the P/E versus stock-returns.\n",
        "plot_scatter(df=df_match, x=PE, y=TOTAL_RETURN_1_3Y,\n",
        "             hue=SALES_GROWTH);"
      ],
      "execution_count": 55,
      "outputs": [
        {
          "output_type": "display_data",
          "data": {
            "image/png": "[encoded data removed]",
            "text/plain": [
              "<Figure size 360x360 with 1 Axes>"
            ]
          },
          "metadata": {
            "tags": []
          }
        }
      ]
    },
    {
      "cell_type": "markdown",
      "metadata": {
        "id": "ll3CWSFCg3Hz",
        "colab_type": "text"
      },
      "source": [
        "We can also print the basic statistics for the average 1-3 year stock-returns from the screener with the optimized parameters. Note that these are actually worse than for the stock-screener and parameters we had made further above. The reason is probably that the optimized screener-parameters also try to ensure that the screener finds a diverse set of stocks, and that the P/E signals are actually present; while the stock-screener further above would also select stocks where the P/E signal was NaN (Not-a-Number)."
      ]
    },
    {
      "cell_type": "code",
      "metadata": {
        "id": "FDSXwBxbg3H0",
        "colab_type": "code",
        "colab": {
          "base_uri": "https://localhost:8080/",
          "height": 170
        },
        "outputId": "46a2262e-7e48-4c3b-87cb-dd45c919a8f8"
      },
      "source": [
        "df_match[TOTAL_RETURN_1_3Y].describe()"
      ],
      "execution_count": 56,
      "outputs": [
        {
          "output_type": "execute_result",
          "data": {
            "text/plain": [
              "count    83561.000000\n",
              "mean         0.108338\n",
              "std          0.205389\n",
              "min         -4.985282\n",
              "25%          0.051077\n",
              "50%          0.122696\n",
              "75%          0.190617\n",
              "max          0.710447\n",
              "Name: Total Return 1-3 Years, dtype: float64"
            ]
          },
          "metadata": {
            "tags": []
          },
          "execution_count": 56
        }
      ]
    },
    {
      "cell_type": "markdown",
      "metadata": {
        "id": "FLpJmLEQg3H2",
        "colab_type": "text"
      },
      "source": [
        "We can also show how many stocks the screener found for every single day. We had programmed the `objective()` function so it would penalize the screener-parameters, if they resulted in there being an average of fewer than 50 stocks that matched the screener every day."
      ]
    },
    {
      "cell_type": "code",
      "metadata": {
        "id": "ftG5Wtx-g3H2",
        "colab_type": "code",
        "colab": {
          "base_uri": "https://localhost:8080/",
          "height": 269
        },
        "outputId": "b038cb88-0095-4650-de33-d0448952eb02"
      },
      "source": [
        "df_match[TOTAL_RETURN_1_3Y].dropna().groupby(DATE).count().plot(grid=True);"
      ],
      "execution_count": 57,
      "outputs": [
        {
          "output_type": "display_data",
          "data": {
            "image/png": "[encoded data removed]",
            "text/plain": [
              "<Figure size 432x288 with 1 Axes>"
            ]
          },
          "metadata": {
            "tags": []
          }
        }
      ]
    },
    {
      "cell_type": "markdown",
      "metadata": {
        "id": "7aTJUTBxg3H4",
        "colab_type": "text"
      },
      "source": [
        "For every day, we can show the average 1-3 year return for all the stocks matching the screener with the optimized parameters. We can see that the screener seems to work better in some periods than others."
      ]
    },
    {
      "cell_type": "code",
      "metadata": {
        "id": "ehVo7_XXg3H6",
        "colab_type": "code",
        "colab": {
          "base_uri": "https://localhost:8080/",
          "height": 269
        },
        "outputId": "12f8849b-0d9f-4ac4-c525-586b66c734e6"
      },
      "source": [
        "df_match[TOTAL_RETURN_1_3Y].groupby(DATE).mean().plot();"
      ],
      "execution_count": 58,
      "outputs": [
        {
          "output_type": "display_data",
          "data": {
            "image/png": "[encoded data removed]",
            "text/plain": [
              "<Figure size 432x288 with 1 Axes>"
            ]
          },
          "metadata": {
            "tags": []
          }
        }
      ]
    },
    {
      "cell_type": "markdown",
      "metadata": {
        "id": "Rls37MG6g3H8",
        "colab_type": "text"
      },
      "source": [
        "## Research Ideas\n",
        "\n",
        "The screener optimization shown above can be extended in many different ways. Here are a few ideas to get you started:\n",
        "\n",
        "- Split the data-set into training- and test-sets as shown in the other SimFin tutorials on Machine Learning. Does the screener work just as well on stock-data that it has not seen during the training?\n",
        "\n",
        "- Create an *ensemble* of stock-screeners by making different screeners that are specialized for different things, e.g. one screener could be specialied for high-growth companies, and another screener could be specialized for under-valued companies. You can also run the optimization several times for each screener, and then average all of the results when building your investment portfolio.\n",
        "\n",
        "- Use multi-objective optimization to find optimal trade-offs e.g. between average returns and probability of loss. You can modify this [implementation](https://github.com/Hvass-Labs/FinanceOps/blob/master/04_Multi-Objective_Portfolio_Optimization.ipynb).\n",
        "\n",
        "- Use Genetic Programming to optimize both the screener-parameters and the entire screener-formula, to find which signals should be used, how they should be used, and what the parameters should be.\n",
        "\n",
        "Please share your results with the rest of the community, that is what SimFin is made for!"
      ]
    },
    {
      "cell_type": "markdown",
      "metadata": {
        "id": "Ct3Rqbrng3H9",
        "colab_type": "text"
      },
      "source": [
        "## License (MIT)\n",
        "\n",
        "This is published under the\n",
        "[MIT License](https://github.com/simfin/simfin-tutorials/blob/master/LICENSE.txt)\n",
        "which allows very broad use for both academic and commercial purposes.\n",
        "\n",
        "You are very welcome to modify and use this source-code in your own project. Please keep a link to the [original repository](https://github.com/simfin/simfin-tutorials).\n"
      ]
    }
  ]
}