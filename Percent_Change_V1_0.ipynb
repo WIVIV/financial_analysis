{
  "nbformat": 4,
  "nbformat_minor": 0,
  "metadata": {
    "colab": {
      "name": "Percent_Change_V1.0.ipynb",
      "provenance": [],
      "authorship_tag": "ABX9TyPBa2RfBIGGOFNBW2Gf5WGG",
      "include_colab_link": true
    },
    "kernelspec": {
      "name": "python3",
      "display_name": "Python 3"
    }
  },
  "cells": [
    {
      "cell_type": "markdown",
      "metadata": {
        "id": "view-in-github",
        "colab_type": "text"
      },
      "source": [
        "<a href=\"https://colab.research.google.com/github/WIVIV/financial_analysis/blob/master/Percent_Change_V1_0.ipynb\" target=\"_parent\"><img src=\"https://colab.research.google.com/assets/colab-badge.svg\" alt=\"Open In Colab\"/></a>"
      ]
    },
    {
      "cell_type": "code",
      "metadata": {
        "id": "TEOPoJfqeU3b",
        "colab_type": "code",
        "colab": {
          "base_uri": "https://localhost:8080/",
          "height": 289
        },
        "outputId": "cd53c7b9-8f0f-43f5-d51c-599086665a43"
      },
      "source": [
        "!pip install simfin"
      ],
      "execution_count": 2,
      "outputs": [
        {
          "output_type": "stream",
          "text": [
            "Collecting simfin\n",
            "\u001b[?25l  Downloading https://files.pythonhosted.org/packages/b3/73/34803edfc9e74529316522ed182367b4da0e82c6366eeb8defa2e1746ba4/simfin-0.5.0-py3-none-any.whl (58kB)\n",
            "\r\u001b[K     |█████▋                          | 10kB 25.6MB/s eta 0:00:01\r\u001b[K     |███████████▎                    | 20kB 3.1MB/s eta 0:00:01\r\u001b[K     |█████████████████               | 30kB 4.5MB/s eta 0:00:01\r\u001b[K     |██████████████████████▌         | 40kB 3.0MB/s eta 0:00:01\r\u001b[K     |████████████████████████████▏   | 51kB 3.7MB/s eta 0:00:01\r\u001b[K     |████████████████████████████████| 61kB 3.1MB/s \n",
            "\u001b[?25hRequirement already satisfied: requests in /usr/local/lib/python3.6/dist-packages (from simfin) (2.21.0)\n",
            "Requirement already satisfied: numpy in /usr/local/lib/python3.6/dist-packages (from simfin) (1.17.5)\n",
            "Requirement already satisfied: pandas in /usr/local/lib/python3.6/dist-packages (from simfin) (0.25.3)\n",
            "Requirement already satisfied: pyarrow in /usr/local/lib/python3.6/dist-packages (from simfin) (0.14.1)\n",
            "Requirement already satisfied: certifi>=2017.4.17 in /usr/local/lib/python3.6/dist-packages (from requests->simfin) (2019.11.28)\n",
            "Requirement already satisfied: urllib3<1.25,>=1.21.1 in /usr/local/lib/python3.6/dist-packages (from requests->simfin) (1.24.3)\n",
            "Requirement already satisfied: chardet<3.1.0,>=3.0.2 in /usr/local/lib/python3.6/dist-packages (from requests->simfin) (3.0.4)\n",
            "Requirement already satisfied: idna<2.9,>=2.5 in /usr/local/lib/python3.6/dist-packages (from requests->simfin) (2.8)\n",
            "Requirement already satisfied: pytz>=2017.2 in /usr/local/lib/python3.6/dist-packages (from pandas->simfin) (2018.9)\n",
            "Requirement already satisfied: python-dateutil>=2.6.1 in /usr/local/lib/python3.6/dist-packages (from pandas->simfin) (2.6.1)\n",
            "Requirement already satisfied: six>=1.0.0 in /usr/local/lib/python3.6/dist-packages (from pyarrow->simfin) (1.12.0)\n",
            "Installing collected packages: simfin\n",
            "Successfully installed simfin-0.5.0\n"
          ],
          "name": "stdout"
        }
      ]
    },
    {
      "cell_type": "code",
      "metadata": {
        "id": "viAo45vgeGcx",
        "colab_type": "code",
        "colab": {}
      },
      "source": [
        "#imports\n",
        "%matplotlib inline\n",
        "import pandas as pd\n",
        "import numpy as np\n",
        "import seaborn as sns\n",
        "import matplotlib.pyplot as plt\n",
        "from scipy.optimize import differential_evolution\n",
        "from datetime import datetime, timedelta\n",
        "import os\n",
        "\n",
        "# Import the main functionality from the SimFin Python API.\n",
        "import simfin as sf\n",
        "\n",
        "# Import names used for easy access to SimFin's data-columns.\n",
        "from simfin.names import *"
      ],
      "execution_count": 0,
      "outputs": []
    },
    {
      "cell_type": "code",
      "metadata": {
        "id": "MOK-CmppedY-",
        "colab_type": "code",
        "colab": {
          "base_uri": "https://localhost:8080/",
          "height": 34
        },
        "outputId": "89979b14-de8a-4e25-cf98-7a19fc081146"
      },
      "source": [
        "# Version of the SimFin Python API.\n",
        "sf.__version__"
      ],
      "execution_count": 7,
      "outputs": [
        {
          "output_type": "execute_result",
          "data": {
            "text/plain": [
              "'0.5.0'"
            ]
          },
          "metadata": {
            "tags": []
          },
          "execution_count": 7
        }
      ]
    },
    {
      "cell_type": "code",
      "metadata": {
        "id": "tVazADmJetq-",
        "colab_type": "code",
        "colab": {}
      },
      "source": [
        "# SimFin data-directory.\n",
        "sf.set_data_dir('~/simfin_data/')\n",
        "# SimFin load API key or use free data.\n",
        "sf.load_api_key(path='~/simfin_api_key.txt', default_key='free')\n",
        "# Seaborn set plotting style.\n",
        "sns.set_style(\"whitegrid\")"
      ],
      "execution_count": 0,
      "outputs": []
    },
    {
      "cell_type": "code",
      "metadata": {
        "id": "I3x6Gc3lfDLm",
        "colab_type": "code",
        "colab": {}
      },
      "source": [
        ""
      ],
      "execution_count": 0,
      "outputs": []
    },
    {
      "cell_type": "code",
      "metadata": {
        "id": "I8NcIOsSfDQ6",
        "colab_type": "code",
        "colab": {}
      },
      "source": [
        ""
      ],
      "execution_count": 0,
      "outputs": []
    },
    {
      "cell_type": "code",
      "metadata": {
        "id": "Oa4DU3OvfDTf",
        "colab_type": "code",
        "colab": {}
      },
      "source": [
        ""
      ],
      "execution_count": 0,
      "outputs": []
    },
    {
      "cell_type": "code",
      "metadata": {
        "id": "IsWtDntafDYm",
        "colab_type": "code",
        "colab": {}
      },
      "source": [
        ""
      ],
      "execution_count": 0,
      "outputs": []
    },
    {
      "cell_type": "code",
      "metadata": {
        "id": "XegW_U40fDWE",
        "colab_type": "code",
        "colab": {}
      },
      "source": [
        ""
      ],
      "execution_count": 0,
      "outputs": []
    }
  ]
}